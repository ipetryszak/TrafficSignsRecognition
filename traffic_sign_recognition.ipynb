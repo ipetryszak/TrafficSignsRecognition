{
  "nbformat": 4,
  "nbformat_minor": 0,
  "metadata": {
    "colab": {
      "name": "traffic_sign_recognition.ipynb",
      "provenance": [],
      "toc_visible": true,
      "include_colab_link": true
    },
    "kernelspec": {
      "name": "python3",
      "display_name": "Python 3"
    },
    "accelerator": "GPU"
  },
  "cells": [
    {
      "cell_type": "markdown",
      "metadata": {
        "id": "view-in-github",
        "colab_type": "text"
      },
      "source": [
        "<a href=\"https://colab.research.google.com/github/skorpiom/traffic_sign_rec/blob/master/traffic_sign_recognition.ipynb\" target=\"_parent\"><img src=\"https://colab.research.google.com/assets/colab-badge.svg\" alt=\"Open In Colab\"/></a>"
      ]
    },
    {
      "cell_type": "code",
      "metadata": {
        "id": "NfjxHdfIeA4q",
        "colab_type": "code",
        "colab": {}
      },
      "source": [
        "!rm -rf sample_data"
      ],
      "execution_count": 0,
      "outputs": []
    },
    {
      "cell_type": "code",
      "metadata": {
        "id": "7WyfMCT8tZdr",
        "colab_type": "code",
        "colab": {}
      },
      "source": [
        "%tensorflow_version 2.x\n",
        "import os\n",
        "import csv\n",
        "import numpy as np\n",
        "import pandas as pd\n",
        "from pandas.io.parsers import read_csv\n",
        "import matplotlib.pyplot as plt\n",
        "import shutil\n",
        "import plotly.graph_objects as go\n",
        "from sklearn.metrics import confusion_matrix, classification_report\n",
        "\n",
        "from tensorflow.keras.preprocessing import image\n",
        "from tensorflow.keras.preprocessing.image import ImageDataGenerator\n",
        "from tensorflow.keras.models import Sequential\n",
        "from tensorflow.keras import layers\n",
        "from tensorflow.keras import optimizers\n",
        "from tensorflow.keras.callbacks import TensorBoard\n",
        "from tensorflow.keras.applications import VGG16\n",
        "\n",
        "np.set_printoptions(precision = 6, suppress = True)"
      ],
      "execution_count": 0,
      "outputs": []
    },
    {
      "cell_type": "code",
      "metadata": {
        "id": "lMSPpKQze6zy",
        "colab_type": "code",
        "colab": {}
      },
      "source": [
        "#download training data, test data (signs in random order) and legend\n",
        "!wget https://sid.erda.dk/public/archives/daaeac0d7ce1152aea9b61d9f1e19370/GTSRB-Training_fixed.zip\n",
        "!wget https://sid.erda.dk/public/archives/daaeac0d7ce1152aea9b61d9f1e19370/GTSRB_Final_Test_Images.zip\n",
        "!wget https://sid.erda.dk/public/archives/daaeac0d7ce1152aea9b61d9f1e19370/GTSRB_Final_Test_GT.zip\n",
        "\n",
        "#unzip\n",
        "!unzip -q GTSRB-Training_fixed.zip \n",
        "!unzip -q GTSRB_Final_Test_Images.zip\n",
        "!unzip -q GTSRB_Final_Test_GT.zip\n",
        "\n",
        "#delete downloaded zip archives\n",
        "!rm -rf ./GTSRB-Training_fixed.zip\n",
        "!rm -rf ./GTSRB_Final_Test_GT.zip\n",
        "!rm -rf ./GTSRB_Final_Test_Images.zip\n",
        "!rm -rf ./GTSRB/Final_Test/Images/GT-final_test.test.csv"
      ],
      "execution_count": 0,
      "outputs": []
    },
    {
      "cell_type": "code",
      "metadata": {
        "id": "tKtwh6NQtbct",
        "colab_type": "code",
        "colab": {}
      },
      "source": [
        "base_dir = './GTSRB/Training'\n",
        "raw_no_of_files = {}\n",
        "classes = []\n",
        "\n",
        "#list raw sub-category names\n",
        "for n in range(0,43):\n",
        "  if n<10:\n",
        "    classes.append(\"0000\"+str(n))\n",
        "  else:\n",
        "    classes.append(\"000\"+str(n))\n",
        "\n",
        "for dir in classes:\n",
        "  raw_no_of_files[dir] = len(os.listdir(os.path.join(base_dir,dir)))"
      ],
      "execution_count": 0,
      "outputs": []
    },
    {
      "cell_type": "code",
      "metadata": {
        "id": "SDk2VufBzHX3",
        "colab_type": "code",
        "colab": {}
      },
      "source": [
        "#organizing test, valid and test directory\n",
        "\n",
        "data_dir = './train_and_valid_signs'\n",
        "dirs_train = []\n",
        "dirs_valid = []\n",
        "dirs_test = []\n",
        "\n",
        "train_dir = os.path.join(data_dir,'train') #training catalog\n",
        "valid_dir = os.path.join(data_dir,'valid') #valid catalog\n",
        "test_dir = os.path.join(data_dir,'test') #tets catalog\n",
        "\n",
        "for n in range(0,43):\n",
        "  dirs_train.append(os.path.join(train_dir,classes[n])) #finall training signs catalogs \n",
        "\n",
        "for n in range(0,43):\n",
        "  dirs_valid.append(os.path.join(valid_dir,classes[n])) #finall validation signs catalogs\n",
        "\n",
        "for n in range(0,43):\n",
        "  dirs_test.append(os.path.join(test_dir,classes[n])) #finall testing signs catalogs\n",
        "\n",
        "if not os.path.exists(data_dir):\n",
        "  os.mkdir(data_dir)\n",
        "  \n",
        "#creating main catalogs (training, validation, testing)\n",
        "for directory in (train_dir,valid_dir,test_dir):\n",
        "  if not os.path.exists(directory):\n",
        "    os.mkdir(directory)\n",
        "\n",
        "#creating subcatalogs for each main path (signs category \"00000\",\"00001\"...\"00042\")\n",
        "for directory in dirs_train:\n",
        "  if not os.path.exists(directory):\n",
        "    os.mkdir(directory)\n",
        "\n",
        "for directory in dirs_valid:\n",
        "  if not os.path.exists(directory):\n",
        "    os.mkdir(directory)\n",
        "\n",
        "for directory in dirs_test:\n",
        "  if not os.path.exists(directory):\n",
        "    os.mkdir(directory)\n",
        "\n",
        "#training and validation data!\n",
        "#copy signs from source to destinantion directory\n",
        "#set is divided for training data 90% and validation data 10%\n",
        "\n",
        "for i,fname in enumerate(sign_fnames):\n",
        "  for j,name in enumerate(fname):\n",
        "    if j<=0.9*int(np.floor(len(fname))):\n",
        "      src = os.path.join(base_dir,classes[i],name)\n",
        "      dst = os.path.join(dirs_train[i],name)\n",
        "      shutil.copyfile(src,dst)\n",
        "    if 0.9*int(np.floor(len(fname))) < j <= len(fname):\n",
        "      src = os.path.join(base_dir,classes[i],name)\n",
        "      dst = os.path.join(dirs_valid[i],name)\n",
        "      shutil.copyfile(src,dst)\n",
        "\n",
        "#testing data!\n",
        "#creating map based on csv file (contain files names and classes) \n",
        "#key = sign category, value = sign name\n",
        "signs_classes = {}\n",
        "file_name = \"\"\n",
        "with open('./GT-final_test.csv', mode='r') as csv_file:\n",
        "    csv_reader = csv.reader(csv_file, delimiter=';')\n",
        "    line_count = 0\n",
        "    for row in csv_reader:\n",
        "      line_count += 1\n",
        "      if 1 < line_count:\n",
        "        signs_classes[row[0]] = row[7]\n",
        "\n",
        "#copy data from source to destination directory\n",
        "\n",
        "signs_test_names = []\n",
        "signs_test_names.append(os.listdir('./GTSRB/Final_Test/Images'))\n",
        "\n",
        "for j,name in enumerate(signs_test_names):\n",
        "  for k,n in enumerate(name):\n",
        "    src = os.path.join('./GTSRB/Final_Test/Images',n)\n",
        "    dst = os.path.join(dirs_test[int(signs_classes[n])],n)\n",
        "    shutil.copyfile(src,dst)"
      ],
      "execution_count": 0,
      "outputs": []
    },
    {
      "cell_type": "code",
      "metadata": {
        "id": "nu6phs3CilvU",
        "colab_type": "code",
        "colab": {}
      },
      "source": [
        "#display number of signs in each class\n",
        "sign_fnames = []\n",
        "for ind in range(0,43):\n",
        "  sign_fnames.append(os.listdir(os.path.join(base_dir,classes[ind])))  \n",
        "\n",
        "for i in range(0,43):\n",
        "  print(i,' liczba obiektow: ',len(sign_fnames[i]))"
      ],
      "execution_count": 0,
      "outputs": []
    },
    {
      "cell_type": "code",
      "metadata": {
        "id": "W0aROqGtG5ED",
        "colab_type": "code",
        "colab": {}
      },
      "source": [
        "#display number of signs in each training and validation class\n",
        "\n",
        "for i in range(0,43):\n",
        "  print(i,' zbior treningowy ',len(os.listdir(dirs_train[i])))\n",
        "  print(i,' zbior walidacyjny ',len(os.listdir(dirs_valid[i])))"
      ],
      "execution_count": 0,
      "outputs": []
    },
    {
      "cell_type": "markdown",
      "metadata": {
        "id": "X5q60TwSrB3L",
        "colab_type": "text"
      },
      "source": [
        "#DISPLAY INDICATED SIGN"
      ]
    },
    {
      "cell_type": "code",
      "metadata": {
        "id": "6ATvJIdIeJHc",
        "colab_type": "code",
        "colab": {}
      },
      "source": [
        "img_path = os.path.join('./train_and_valid_signs','test','00039','02050.ppm')\n",
        "print(img_path)\n",
        "img = image.load_img(img_path)\n",
        "plt.figure(figsize=(1,1))\n",
        "plt.imshow(img)\n",
        "plt.grid(False)\n",
        "plt.axis(False)"
      ],
      "execution_count": 0,
      "outputs": []
    },
    {
      "cell_type": "markdown",
      "metadata": {
        "id": "RCWoQ5IY_R6U",
        "colab_type": "text"
      },
      "source": [
        "#AUGMENTATION"
      ]
    },
    {
      "cell_type": "code",
      "metadata": {
        "id": "E3naRxdW84cN",
        "colab_type": "code",
        "colab": {}
      },
      "source": [
        "#data augmentation\n",
        "\n",
        "train_datagen = ImageDataGenerator(\n",
        "    rotation_range = 40,\n",
        "    rescale = 1./255.,\n",
        "    width_shift_range = 0.2,\n",
        "    height_shift_range = 0.2,\n",
        "    shear_range = 0.2,\n",
        "    zoom_range = 0.2,\n",
        "    horizontal_flip = True,\n",
        "    fill_mode = 'nearest'\n",
        ")\n",
        "\n",
        "valid_datagen = ImageDataGenerator(rescale = 1./255.)                           #data scaling\n",
        "\n",
        "train_generator = train_datagen.flow_from_directory(directory = train_dir,\n",
        "                                                    target_size=(32,32),        #signs dimensions\n",
        "                                                    batch_size = 16,            #size of batch\n",
        "                                                    class_mode='categorical')   #43 classes of signs exists\n",
        "valid_generator = train_datagen.flow_from_directory(directory = valid_dir,\n",
        "                                                    target_size=(32,32),\n",
        "                                                    batch_size = 16,\n",
        "                                                    class_mode='categorical')"
      ],
      "execution_count": 0,
      "outputs": []
    },
    {
      "cell_type": "markdown",
      "metadata": {
        "id": "PN2J_L_X33Tl",
        "colab_type": "text"
      },
      "source": [
        "#TRANSFER LEARNING //not used"
      ]
    },
    {
      "cell_type": "code",
      "metadata": {
        "id": "2uXxVNn_32r0",
        "colab_type": "code",
        "colab": {}
      },
      "source": [
        "conv_base = VGG16(weights = 'imagenet', include_top = False, input_shape=(32,32,3))\n",
        "conv_base.trainable = False\n",
        "\n",
        "def print_layers(model):\n",
        "  for layer in model.layers:\n",
        "    print(f'layer_name {layer.name:13} trainable: {layer.trainable}')\n",
        "\n",
        "set_trainable = False\n",
        "for layer in conv_base.layers:\n",
        "  if layer.name =='block5_conv1':\n",
        "    set_trainable = True\n",
        "  if set_trainable:\n",
        "    layer.trainable = True\n",
        "  else:\n",
        "    layer.trainable = False\n",
        "\n",
        "print_layers(conv_base)\n"
      ],
      "execution_count": 0,
      "outputs": []
    },
    {
      "cell_type": "code",
      "metadata": {
        "id": "NlJ0Lkp-59lc",
        "colab_type": "code",
        "outputId": "0a662bd2-2333-4ad7-aa08-249efa84e971",
        "colab": {
          "base_uri": "https://localhost:8080/",
          "height": 286
        }
      },
      "source": [
        "model = Sequential()\n",
        "model.add(conv_base)\n",
        "model.add(layers.Flatten())\n",
        "model.add(layers.Dense(units = 1024, activation = 'relu'))\n",
        "model.add(layers.Dense(units = 43, activation = 'softmax'))\n",
        "model.summary()"
      ],
      "execution_count": 0,
      "outputs": [
        {
          "output_type": "stream",
          "text": [
            "Model: \"sequential_5\"\n",
            "_________________________________________________________________\n",
            "Layer (type)                 Output Shape              Param #   \n",
            "=================================================================\n",
            "vgg16 (Model)                (None, 1, 1, 512)         14714688  \n",
            "_________________________________________________________________\n",
            "flatten_5 (Flatten)          (None, 512)               0         \n",
            "_________________________________________________________________\n",
            "dense_10 (Dense)             (None, 1024)              525312    \n",
            "_________________________________________________________________\n",
            "dense_11 (Dense)             (None, 43)                44075     \n",
            "=================================================================\n",
            "Total params: 15,284,075\n",
            "Trainable params: 569,387\n",
            "Non-trainable params: 14,714,688\n",
            "_________________________________________________________________\n"
          ],
          "name": "stdout"
        }
      ]
    },
    {
      "cell_type": "code",
      "metadata": {
        "id": "NuJvZM-p7GsZ",
        "colab_type": "code",
        "colab": {}
      },
      "source": [
        "model.compile(optimizer=optimizers.RMSprop(lr=1e-4),\n",
        "              loss='categorical_crossentropy',\n",
        "              metrics=['accuracy'])"
      ],
      "execution_count": 0,
      "outputs": []
    },
    {
      "cell_type": "code",
      "metadata": {
        "id": "kFNHu_l17XT1",
        "colab_type": "code",
        "colab": {}
      },
      "source": [
        "history = model.fit_generator(generator=train_generator,\n",
        "                              epochs = 50,\n",
        "                              validation_data = valid_generator,\n",
        "                              callbacks = [tensorboard])"
      ],
      "execution_count": 0,
      "outputs": []
    },
    {
      "cell_type": "markdown",
      "metadata": {
        "id": "Rp0doLYEQZA2",
        "colab_type": "text"
      },
      "source": [
        "#MODEL"
      ]
    },
    {
      "cell_type": "code",
      "metadata": {
        "id": "jyBNveOWNq_m",
        "colab_type": "code",
        "colab": {}
      },
      "source": [
        "model = Sequential()\n",
        "model.add(layers.Conv2D(filters=32, kernel_size=(3,3),activation='relu',input_shape=(32, 32, 3)))\n",
        "model.add(layers.Conv2D(filters=64,kernel_size=(3,3),activation='relu'))\n",
        "model.add(layers.MaxPooling2D(pool_size=(2,2)))\n",
        "model.add(layers.Conv2D(filters=128,kernel_size=(3,3),activation='relu'))\n",
        "model.add(layers.MaxPooling2D(pool_size=(2,2)))\n",
        "model.add(layers.Conv2D(filters=256,kernel_size=(3,3),activation='relu'))\n",
        "model.add(layers.Flatten())\n",
        "model.add(layers.Dense(units=2048, activation='relu'))\n",
        "model.add(layers.Dense(units=43, activation='softmax'))\n",
        "model.summary()"
      ],
      "execution_count": 0,
      "outputs": []
    },
    {
      "cell_type": "markdown",
      "metadata": {
        "id": "ctid-o4Co8U8",
        "colab_type": "text"
      },
      "source": [
        "#TRAINING"
      ]
    },
    {
      "cell_type": "code",
      "metadata": {
        "id": "ZcmPligmU4ue",
        "colab_type": "code",
        "colab": {}
      },
      "source": [
        "#training with RMSprop optimizer\n",
        "model.compile(optimizer = optimizers.RMSprop(lr=1e-4), \n",
        "              loss='categorical_crossentropy',\n",
        "              metrics=['accuracy'])"
      ],
      "execution_count": 0,
      "outputs": []
    },
    {
      "cell_type": "code",
      "metadata": {
        "id": "XQeEJIniXv1Y",
        "colab_type": "code",
        "colab": {}
      },
      "source": [
        "!rm -rf logs\n",
        "!mkdir logs\n",
        "tensorboard = TensorBoard(log_dir='logs')"
      ],
      "execution_count": 0,
      "outputs": []
    },
    {
      "cell_type": "code",
      "metadata": {
        "id": "I3bHf7yaXxbI",
        "colab_type": "code",
        "colab": {}
      },
      "source": [
        "history = model.fit_generator(generator=train_generator,\n",
        "                              epochs = 50,\n",
        "                              validation_data = valid_generator,\n",
        "                              callbacks = [tensorboard])"
      ],
      "execution_count": 0,
      "outputs": []
    },
    {
      "cell_type": "code",
      "metadata": {
        "id": "ZJVjl3C7IXMk",
        "colab_type": "code",
        "colab": {}
      },
      "source": [
        "#training with adadelta optimizer\n",
        "model.compile(optimizer = 'adadelta', \n",
        "              loss='categorical_crossentropy',\n",
        "              metrics=['accuracy'])"
      ],
      "execution_count": 0,
      "outputs": []
    },
    {
      "cell_type": "code",
      "metadata": {
        "id": "WrVENQAYIfbY",
        "colab_type": "code",
        "colab": {}
      },
      "source": [
        "!rm -rf logs\n",
        "!mkdir logs\n",
        "tensorboard = TensorBoard(log_dir='logs')"
      ],
      "execution_count": 0,
      "outputs": []
    },
    {
      "cell_type": "code",
      "metadata": {
        "id": "xEUzXp2tIhZg",
        "colab_type": "code",
        "colab": {}
      },
      "source": [
        "history = model.fit_generator(generator=train_generator,\n",
        "                              epochs = 50,\n",
        "                              validation_data = valid_generator,\n",
        "                              callbacks = [tensorboard])"
      ],
      "execution_count": 0,
      "outputs": []
    },
    {
      "cell_type": "code",
      "metadata": {
        "id": "rFXk8eAfa6W5",
        "colab_type": "code",
        "colab": {}
      },
      "source": [
        "#charts created by tensorflow\n",
        "\n",
        "%load_ext tensorboard\n",
        "!tensorboard dev upload --logdir logs"
      ],
      "execution_count": 0,
      "outputs": []
    },
    {
      "cell_type": "markdown",
      "metadata": {
        "id": "8lThZMnpGrML",
        "colab_type": "text"
      },
      "source": [
        "#TEST SET"
      ]
    },
    {
      "cell_type": "code",
      "metadata": {
        "id": "WqKsRUgOIa6Z",
        "colab_type": "code",
        "colab": {}
      },
      "source": [
        "#testing model with new data\n",
        "test_datagen = ImageDataGenerator(rescale=1./255.)\n",
        "test_generator = test_datagen.flow_from_directory(\n",
        "    './train_and_valid_signs/test/',\n",
        "    target_size = (32,32),\n",
        "    batch_size = 1,\n",
        "    class_mode = 'categorical',\n",
        "    shuffle = False\n",
        ")\n",
        "\n",
        "y_prob = model.predict_generator(test_generator, test_generator.samples)"
      ],
      "execution_count": 0,
      "outputs": []
    },
    {
      "cell_type": "code",
      "metadata": {
        "id": "f072CKAmJrmj",
        "colab_type": "code",
        "colab": {}
      },
      "source": [
        "#creating an array of predicted answers (category)\n",
        "y_pred = np.argmax(y_prob,axis=1)\n",
        "y_pred"
      ],
      "execution_count": 0,
      "outputs": []
    },
    {
      "cell_type": "code",
      "metadata": {
        "id": "rof-BkSgJ7tD",
        "colab_type": "code",
        "colab": {}
      },
      "source": [
        "#display predictions\n",
        "predictions = pd.DataFrame({'class':y_pred})\n",
        "predictions"
      ],
      "execution_count": 0,
      "outputs": []
    },
    {
      "cell_type": "code",
      "metadata": {
        "id": "mZz6337bKQ_Z",
        "colab_type": "code",
        "colab": {}
      },
      "source": [
        "#creating an array of true answers (category)\n",
        "y_true = test_generator.classes\n",
        "y_true"
      ],
      "execution_count": 0,
      "outputs": []
    },
    {
      "cell_type": "code",
      "metadata": {
        "id": "9h1KPjuTKho7",
        "colab_type": "code",
        "colab": {}
      },
      "source": [
        "#creating a confusion matrix\n",
        "cm = confusion_matrix(y_true,y_pred)\n",
        "print(cm[39])"
      ],
      "execution_count": 0,
      "outputs": []
    },
    {
      "cell_type": "code",
      "metadata": {
        "id": "SAVRxOPsolUQ",
        "colab_type": "code",
        "colab": {}
      },
      "source": [
        "#print raport\n",
        "print(classification_report(y_true,y_pred,target_names=test_generator.class_indices.keys()))"
      ],
      "execution_count": 0,
      "outputs": []
    }
  ]
}