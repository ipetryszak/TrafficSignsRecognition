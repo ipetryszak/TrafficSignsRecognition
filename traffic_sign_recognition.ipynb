{
  "nbformat": 4,
  "nbformat_minor": 0,
  "metadata": {
    "colab": {
      "name": "traffic_sign_recognition.ipynb",
      "provenance": [],
      "toc_visible": true,
      "include_colab_link": true
    },
    "kernelspec": {
      "name": "python3",
      "display_name": "Python 3"
    },
    "accelerator": "GPU"
  },
  "cells": [
    {
      "cell_type": "markdown",
      "metadata": {
        "id": "view-in-github",
        "colab_type": "text"
      },
      "source": [
        "<a href=\"https://colab.research.google.com/github/skorpiom/traffic_sign_rec/blob/master/traffic_sign_recognition.ipynb\" target=\"_parent\"><img src=\"https://colab.research.google.com/assets/colab-badge.svg\" alt=\"Open In Colab\"/></a>"
      ]
    },
    {
      "cell_type": "code",
      "metadata": {
        "id": "NfjxHdfIeA4q",
        "colab_type": "code",
        "colab": {}
      },
      "source": [
        "!rm -rf sample_data\n",
        "!rm -rf train_and_valid_signs"
      ],
      "execution_count": 0,
      "outputs": []
    },
    {
      "cell_type": "code",
      "metadata": {
        "id": "7WyfMCT8tZdr",
        "colab_type": "code",
        "colab": {}
      },
      "source": [
        "%tensorflow_version 2.x\n",
        "import os\n",
        "import numpy as np\n",
        "import pandas as pd\n",
        "from pandas.io.parsers import read_csv\n",
        "import matplotlib.pyplot as plt\n",
        "import shutil\n",
        "import plotly.graph_objects as go\n",
        "from sklearn.metrics import confusion_matrix, classification_report\n",
        "\n",
        "from tensorflow.keras.preprocessing import image\n",
        "from tensorflow.keras.preprocessing.image import ImageDataGenerator\n",
        "from tensorflow.keras.models import Sequential\n",
        "from tensorflow.keras import layers\n",
        "from tensorflow.keras import optimizers\n",
        "from tensorflow.keras.callbacks import TensorBoard\n",
        "from tensorflow.keras.applications import VGG16\n",
        "\n",
        "np.set_printoptions(precision = 6, suppress = True)"
      ],
      "execution_count": 0,
      "outputs": []
    },
    {
      "cell_type": "code",
      "metadata": {
        "id": "lMSPpKQze6zy",
        "colab_type": "code",
        "outputId": "6c0236ce-3dfb-447f-c517-a87ed24798d1",
        "colab": {
          "base_uri": "https://localhost:8080/",
          "height": 571
        }
      },
      "source": [
        "!wget https://sid.erda.dk/public/archives/daaeac0d7ce1152aea9b61d9f1e19370/GTSRB-Training_fixed.zip\n",
        "!unzip -q GTSRB-Training_fixed.zip\n",
        "\n",
        "#download test set (signs in random order) and legend\n",
        "!wget https://sid.erda.dk/public/archives/daaeac0d7ce1152aea9b61d9f1e19370/GTSRB_Final_Test_Images.zip\n",
        "!unzip -q GTSRB_Final_Test_Images.zip\n",
        "!wget https://sid.erda.dk/public/archives/daaeac0d7ce1152aea9b61d9f1e19370/GTSRB_Final_Test_GT.zip\n",
        "!unzip -q GTSRB_Final_Test_GT.zip"
      ],
      "execution_count": 6,
      "outputs": [
        {
          "output_type": "stream",
          "text": [
            "--2020-01-03 18:22:35--  https://sid.erda.dk/public/archives/daaeac0d7ce1152aea9b61d9f1e19370/GTSRB-Training_fixed.zip\n",
            "Resolving sid.erda.dk (sid.erda.dk)... 130.225.104.13\n",
            "Connecting to sid.erda.dk (sid.erda.dk)|130.225.104.13|:443... connected.\n",
            "HTTP request sent, awaiting response... 200 OK\n",
            "Length: 187490228 (179M) [application/zip]\n",
            "Saving to: ‘GTSRB-Training_fixed.zip’\n",
            "\n",
            "GTSRB-Training_fixe 100%[===================>] 178.80M  19.4MB/s    in 11s     \n",
            "\n",
            "2020-01-03 18:22:47 (16.9 MB/s) - ‘GTSRB-Training_fixed.zip’ saved [187490228/187490228]\n",
            "\n",
            "--2020-01-03 18:22:53--  https://sid.erda.dk/public/archives/daaeac0d7ce1152aea9b61d9f1e19370/GTSRB_Final_Test_Images.zip\n",
            "Resolving sid.erda.dk (sid.erda.dk)... 130.225.104.13\n",
            "Connecting to sid.erda.dk (sid.erda.dk)|130.225.104.13|:443... connected.\n",
            "HTTP request sent, awaiting response... 200 OK\n",
            "Length: 88978620 (85M) [application/zip]\n",
            "Saving to: ‘GTSRB_Final_Test_Images.zip’\n",
            "\n",
            "GTSRB_Final_Test_Im 100%[===================>]  84.86M  19.0MB/s    in 5.7s    \n",
            "\n",
            "2020-01-03 18:22:59 (14.9 MB/s) - ‘GTSRB_Final_Test_Images.zip’ saved [88978620/88978620]\n",
            "\n",
            "--2020-01-03 18:23:03--  https://sid.erda.dk/public/archives/daaeac0d7ce1152aea9b61d9f1e19370/GTSRB_Final_Test_GT.zip\n",
            "Resolving sid.erda.dk (sid.erda.dk)... 130.225.104.13\n",
            "Connecting to sid.erda.dk (sid.erda.dk)|130.225.104.13|:443... connected.\n",
            "HTTP request sent, awaiting response... 200 OK\n",
            "Length: 99620 (97K) [application/zip]\n",
            "Saving to: ‘GTSRB_Final_Test_GT.zip’\n",
            "\n",
            "GTSRB_Final_Test_GT 100%[===================>]  97.29K   210KB/s    in 0.5s    \n",
            "\n",
            "2020-01-03 18:23:04 (210 KB/s) - ‘GTSRB_Final_Test_GT.zip’ saved [99620/99620]\n",
            "\n"
          ],
          "name": "stdout"
        }
      ]
    },
    {
      "cell_type": "code",
      "metadata": {
        "id": "aaOaa5uhZbsn",
        "colab_type": "code",
        "colab": {}
      },
      "source": [
        "!rm -rf ./GTSRB-Training_fixed.zip\n",
        "!rm -rf ./GTSRB_Final_Test_GT.zip\n",
        "!rm -rf ./GTSRB_Final_Test_Images.zip\n",
        "!rm -rf ./GTSRB/Final_Test/Images/GT-final_test.test.csv"
      ],
      "execution_count": 0,
      "outputs": []
    },
    {
      "cell_type": "markdown",
      "metadata": {
        "id": "RW_pdNynpTRK",
        "colab_type": "text"
      },
      "source": [
        ""
      ]
    },
    {
      "cell_type": "code",
      "metadata": {
        "id": "tKtwh6NQtbct",
        "colab_type": "code",
        "outputId": "ef223be2-7bc2-4833-92e1-1b323b2fdb96",
        "colab": {
          "base_uri": "https://localhost:8080/",
          "height": 54
        }
      },
      "source": [
        "base_dir = './GTSRB/Training'\n",
        "raw_no_of_files = {}\n",
        "classes = []\n",
        "for n in range(0,43):\n",
        "  if n<10:\n",
        "    classes.append(\"0000\"+str(n))\n",
        "  else:\n",
        "    classes.append(\"000\"+str(n))\n",
        "\n",
        "for dir in classes:\n",
        "  raw_no_of_files[dir] = len(os.listdir(os.path.join(base_dir,dir)))\n",
        "\n",
        "raw_no_of_files.items()"
      ],
      "execution_count": 8,
      "outputs": [
        {
          "output_type": "execute_result",
          "data": {
            "text/plain": [
              "dict_items([('00000', 151), ('00001', 1501), ('00002', 1501), ('00003', 961), ('00004', 1321), ('00005', 1261), ('00006', 301), ('00007', 961), ('00008', 961), ('00009', 991), ('00010', 1351), ('00011', 901), ('00012', 1411), ('00013', 1441), ('00014', 541), ('00015', 421), ('00016', 301), ('00017', 751), ('00018', 811), ('00019', 151), ('00020', 241), ('00021', 241), ('00022', 271), ('00023', 361), ('00024', 181), ('00025', 1021), ('00026', 421), ('00027', 181), ('00028', 361), ('00029', 181), ('00030', 301), ('00031', 541), ('00032', 181), ('00033', 481), ('00034', 301), ('00035', 811), ('00036', 271), ('00037', 151), ('00038', 1381), ('00039', 211), ('00040', 241), ('00041', 181), ('00042', 181)])"
            ]
          },
          "metadata": {
            "tags": []
          },
          "execution_count": 8
        }
      ]
    },
    {
      "cell_type": "code",
      "metadata": {
        "id": "SDk2VufBzHX3",
        "colab_type": "code",
        "colab": {}
      },
      "source": [
        "data_dir = './train_and_valid_signs'\n",
        "dirs_train = []\n",
        "dirs_valid = []\n",
        "dirs_test = []\n",
        "\n",
        "train_dir = os.path.join(data_dir,'train') #katalog treningowy\n",
        "valid_dir = os.path.join(data_dir,'valid') #katalog walidacyjny\n",
        "test_dir = os.path.join(data_dir,'test') #katalog testowy\n",
        "\n",
        "for n in range(0,43):\n",
        "  dirs_train.append(os.path.join(train_dir,classes[n])) #sciezki z katalogami docelowymi zbior treningowy\n",
        "\n",
        "for n in range(0,43):\n",
        "  dirs_valid.append(os.path.join(valid_dir,classes[n])) #sciezki z katalogami docelowymi zbior walidacyjny\n",
        "\n",
        "for n in range(0,43):\n",
        "  dirs_test.append(os.path.join(test_dir,classes[n])) #sciezki z katalogami docelowymi zbior testowy\n",
        "\n",
        "if not os.path.exists(data_dir):\n",
        "  os.mkdir(data_dir)\n",
        "  \n",
        "for directory in (train_dir,valid_dir,test_dir):\n",
        "  if not os.path.exists(directory):\n",
        "    os.mkdir(directory)\n",
        "\n",
        "for directory in dirs_train:\n",
        "  if not os.path.exists(directory):\n",
        "    os.mkdir(directory)\n",
        "\n",
        "for directory in dirs_valid:\n",
        "  if not os.path.exists(directory):\n",
        "    os.mkdir(directory)\n",
        "\n",
        "for directory in dirs_test:\n",
        "  if not os.path.exists(directory):\n",
        "    os.mkdir(directory)"
      ],
      "execution_count": 0,
      "outputs": []
    },
    {
      "cell_type": "markdown",
      "metadata": {
        "id": "X5q60TwSrB3L",
        "colab_type": "text"
      },
      "source": [
        "#DISPLAY INDICATED SIGN"
      ]
    },
    {
      "cell_type": "code",
      "metadata": {
        "id": "6ATvJIdIeJHc",
        "colab_type": "code",
        "outputId": "b3736684-1f3b-4e31-c082-58a6dcb6f132",
        "colab": {
          "base_uri": "https://localhost:8080/",
          "height": 118
        }
      },
      "source": [
        "img_path = os.path.join('./train_and_valid_signs','test','00039','02050.ppm')\n",
        "print(img_path)\n",
        "img = image.load_img(img_path)\n",
        "plt.figure(figsize=(1,1))\n",
        "plt.imshow(img)\n",
        "plt.grid(False)\n",
        "plt.axis(False)"
      ],
      "execution_count": 0,
      "outputs": [
        {
          "output_type": "stream",
          "text": [
            "./train_and_valid_signs/test/00039/02050.ppm\n"
          ],
          "name": "stdout"
        },
        {
          "output_type": "execute_result",
          "data": {
            "text/plain": [
              "(-0.5, 41.5, 46.5, -0.5)"
            ]
          },
          "metadata": {
            "tags": []
          },
          "execution_count": 95
        },
        {
          "output_type": "display_data",
          "data": {
            "image/png": "[encoded data removed]",
            "text/plain": [
              "<Figure size 72x72 with 1 Axes>"
            ]
          },
          "metadata": {
            "tags": []
          }
        }
      ]
    },
    {
      "cell_type": "code",
      "metadata": {
        "id": "nu6phs3CilvU",
        "colab_type": "code",
        "outputId": "cfa71431-185c-41ec-e542-3c60ea1f0b78",
        "colab": {
          "base_uri": "https://localhost:8080/",
          "height": 50
        }
      },
      "source": [
        "sign_fnames = []\n",
        "for ind in range(0,43):\n",
        "  sign_fnames.append(os.listdir(os.path.join(base_dir,classes[ind])))  \n",
        "\n",
        "print('00000 liczba obiektow: ',len(sign_fnames[0]))\n",
        "print('00001 liczba obiektow: ',len(sign_fnames[1]))"
      ],
      "execution_count": 10,
      "outputs": [
        {
          "output_type": "stream",
          "text": [
            "00000 liczba obiektow:  151\n",
            "00001 liczba obiektow:  1501\n"
          ],
          "name": "stdout"
        }
      ]
    },
    {
      "cell_type": "code",
      "metadata": {
        "id": "LVuWmzKiqw39",
        "colab_type": "code",
        "colab": {}
      },
      "source": [
        "for i,fname in enumerate(sign_fnames):\n",
        "  for j,name in enumerate(fname):\n",
        "    if j<=0.9*int(np.floor(len(fname))):\n",
        "      src = os.path.join(base_dir,classes[i],name)\n",
        "      dst = os.path.join(dirs_train[i],name)\n",
        "      shutil.copyfile(src,dst)\n",
        "    if 0.9*int(np.floor(len(fname))) < j <= len(fname):\n",
        "      src = os.path.join(base_dir,classes[i],name)\n",
        "      dst = os.path.join(dirs_valid[i],name)\n",
        "      shutil.copyfile(src,dst)"
      ],
      "execution_count": 0,
      "outputs": []
    },
    {
      "cell_type": "code",
      "metadata": {
        "id": "MZ42aaDc84nH",
        "colab_type": "code",
        "outputId": "e21fd03b-d144-4821-c83f-ff7352757a0c",
        "colab": {
          "base_uri": "https://localhost:8080/",
          "height": 84
        }
      },
      "source": [
        "print('00000 zbior treningowy ',len(os.listdir(dirs_train[0])))\n",
        "print('00000 zbior walidacyjny ',len(os.listdir(dirs_valid[0])))\n",
        "\n",
        "print('00001 zbior treningowy ',len(os.listdir(dirs_train[1])))\n",
        "print('00001 zbior walidacyjny ',len(os.listdir(dirs_valid[1])))"
      ],
      "execution_count": 0,
      "outputs": [
        {
          "output_type": "stream",
          "text": [
            "00000 zbior treningowy  136\n",
            "00000 zbior walidacyjny  30\n",
            "00001 zbior treningowy  1351\n",
            "00001 zbior walidacyjny  300\n"
          ],
          "name": "stdout"
        }
      ]
    },
    {
      "cell_type": "markdown",
      "metadata": {
        "id": "RCWoQ5IY_R6U",
        "colab_type": "text"
      },
      "source": [
        "#AUGMENTACJA DANYCH"
      ]
    },
    {
      "cell_type": "code",
      "metadata": {
        "id": "E3naRxdW84cN",
        "colab_type": "code",
        "outputId": "17fed570-69c5-441d-fd43-86a2bbdce20e",
        "colab": {
          "base_uri": "https://localhost:8080/",
          "height": 50
        }
      },
      "source": [
        "train_datagen = ImageDataGenerator(\n",
        "    rotation_range = 40,\n",
        "    rescale = 1./255.,\n",
        "    width_shift_range = 0.2,\n",
        "    height_shift_range = 0.2,\n",
        "    shear_range = 0.2,\n",
        "    zoom_range = 0.2,\n",
        "    horizontal_flip = True,\n",
        "    fill_mode = 'nearest'\n",
        ")\n",
        "\n",
        "valid_datagen = ImageDataGenerator(rescale = 1./255.) #przeskalowanie danych\n",
        "\n",
        "train_generator = train_datagen.flow_from_directory(directory = train_dir,\n",
        "                                                    target_size=(32,32),\n",
        "                                                    batch_size = 16,\n",
        "                                                    class_mode='categorical')\n",
        "valid_generator = train_datagen.flow_from_directory(directory = valid_dir,\n",
        "                                                    target_size=(32,32),\n",
        "                                                    batch_size = 16,\n",
        "                                                    class_mode='categorical')"
      ],
      "execution_count": 12,
      "outputs": [
        {
          "output_type": "stream",
          "text": [
            "Found 23982 images belonging to 43 classes.\n",
            "Found 2658 images belonging to 43 classes.\n"
          ],
          "name": "stdout"
        }
      ]
    },
    {
      "cell_type": "markdown",
      "metadata": {
        "id": "PN2J_L_X33Tl",
        "colab_type": "text"
      },
      "source": [
        "#TRANSFER LEARNING"
      ]
    },
    {
      "cell_type": "code",
      "metadata": {
        "id": "2uXxVNn_32r0",
        "colab_type": "code",
        "outputId": "1c059560-971a-4c04-fef0-aa13915086a3",
        "colab": {
          "base_uri": "https://localhost:8080/",
          "height": 336
        }
      },
      "source": [
        "conv_base = VGG16(weights = 'imagenet', include_top = False, input_shape=(32,32,3))\n",
        "conv_base.trainable = False\n",
        "\n",
        "def print_layers(model):\n",
        "  for layer in model.layers:\n",
        "    print(f'layer_name {layer.name:13} trainable: {layer.trainable}')\n",
        "\n",
        "set_trainable = False\n",
        "for layer in conv_base.layers:\n",
        "  if layer.name =='block5_conv1':\n",
        "    set_trainable = True\n",
        "  if set_trainable:\n",
        "    layer.trainable = True\n",
        "  else:\n",
        "    layer.trainable = False\n",
        "\n",
        "print_layers(conv_base)\n"
      ],
      "execution_count": 0,
      "outputs": [
        {
          "output_type": "stream",
          "text": [
            "layer_name input_7       trainable: False\n",
            "layer_name block1_conv1  trainable: False\n",
            "layer_name block1_conv2  trainable: False\n",
            "layer_name block1_pool   trainable: False\n",
            "layer_name block2_conv1  trainable: False\n",
            "layer_name block2_conv2  trainable: False\n",
            "layer_name block2_pool   trainable: False\n",
            "layer_name block3_conv1  trainable: False\n",
            "layer_name block3_conv2  trainable: False\n",
            "layer_name block3_conv3  trainable: False\n",
            "layer_name block3_pool   trainable: False\n",
            "layer_name block4_conv1  trainable: False\n",
            "layer_name block4_conv2  trainable: False\n",
            "layer_name block4_conv3  trainable: False\n",
            "layer_name block4_pool   trainable: False\n",
            "layer_name block5_conv1  trainable: True\n",
            "layer_name block5_conv2  trainable: True\n",
            "layer_name block5_conv3  trainable: True\n",
            "layer_name block5_pool   trainable: True\n"
          ],
          "name": "stdout"
        }
      ]
    },
    {
      "cell_type": "code",
      "metadata": {
        "id": "NlJ0Lkp-59lc",
        "colab_type": "code",
        "outputId": "0a662bd2-2333-4ad7-aa08-249efa84e971",
        "colab": {
          "base_uri": "https://localhost:8080/",
          "height": 286
        }
      },
      "source": [
        "model = Sequential()\n",
        "model.add(conv_base)\n",
        "model.add(layers.Flatten())\n",
        "model.add(layers.Dense(units = 1024, activation = 'relu'))\n",
        "model.add(layers.Dense(units = 43, activation = 'softmax'))\n",
        "model.summary()"
      ],
      "execution_count": 0,
      "outputs": [
        {
          "output_type": "stream",
          "text": [
            "Model: \"sequential_5\"\n",
            "_________________________________________________________________\n",
            "Layer (type)                 Output Shape              Param #   \n",
            "=================================================================\n",
            "vgg16 (Model)                (None, 1, 1, 512)         14714688  \n",
            "_________________________________________________________________\n",
            "flatten_5 (Flatten)          (None, 512)               0         \n",
            "_________________________________________________________________\n",
            "dense_10 (Dense)             (None, 1024)              525312    \n",
            "_________________________________________________________________\n",
            "dense_11 (Dense)             (None, 43)                44075     \n",
            "=================================================================\n",
            "Total params: 15,284,075\n",
            "Trainable params: 569,387\n",
            "Non-trainable params: 14,714,688\n",
            "_________________________________________________________________\n"
          ],
          "name": "stdout"
        }
      ]
    },
    {
      "cell_type": "code",
      "metadata": {
        "id": "NuJvZM-p7GsZ",
        "colab_type": "code",
        "colab": {}
      },
      "source": [
        "model.compile(optimizer=optimizers.RMSprop(lr=1e-4),\n",
        "              loss='categorical_crossentropy',\n",
        "              metrics=['accuracy'])"
      ],
      "execution_count": 0,
      "outputs": []
    },
    {
      "cell_type": "code",
      "metadata": {
        "id": "kFNHu_l17XT1",
        "colab_type": "code",
        "colab": {}
      },
      "source": [
        "history = model.fit_generator(generator=train_generator,\n",
        "                              epochs = 50,\n",
        "                              validation_data = valid_generator,\n",
        "                              callbacks = [tensorboard])"
      ],
      "execution_count": 0,
      "outputs": []
    },
    {
      "cell_type": "markdown",
      "metadata": {
        "id": "Rp0doLYEQZA2",
        "colab_type": "text"
      },
      "source": [
        "#BUDOWA MODELU"
      ]
    },
    {
      "cell_type": "code",
      "metadata": {
        "id": "jyBNveOWNq_m",
        "colab_type": "code",
        "outputId": "863d820c-c885-4eb6-b40c-8e6947f7185d",
        "colab": {
          "base_uri": "https://localhost:8080/",
          "height": 454
        }
      },
      "source": [
        "model = Sequential()\n",
        "model.add(layers.Conv2D(filters=32, kernel_size=(3,3),activation='relu',input_shape=(32, 32, 3)))\n",
        "model.add(layers.Conv2D(filters=64,kernel_size=(3,3),activation='relu'))\n",
        "model.add(layers.MaxPooling2D(pool_size=(2,2)))\n",
        "model.add(layers.Conv2D(filters=128,kernel_size=(3,3),activation='relu'))\n",
        "model.add(layers.MaxPooling2D(pool_size=(2,2)))\n",
        "model.add(layers.Conv2D(filters=256,kernel_size=(3,3),activation='relu'))\n",
        "model.add(layers.Flatten())\n",
        "model.add(layers.Dense(units=2048, activation='relu'))\n",
        "model.add(layers.Dense(units=43, activation='softmax'))\n",
        "model.summary()"
      ],
      "execution_count": 13,
      "outputs": [
        {
          "output_type": "stream",
          "text": [
            "Model: \"sequential\"\n",
            "_________________________________________________________________\n",
            "Layer (type)                 Output Shape              Param #   \n",
            "=================================================================\n",
            "conv2d (Conv2D)              (None, 30, 30, 32)        896       \n",
            "_________________________________________________________________\n",
            "conv2d_1 (Conv2D)            (None, 28, 28, 64)        18496     \n",
            "_________________________________________________________________\n",
            "max_pooling2d (MaxPooling2D) (None, 14, 14, 64)        0         \n",
            "_________________________________________________________________\n",
            "conv2d_2 (Conv2D)            (None, 12, 12, 128)       73856     \n",
            "_________________________________________________________________\n",
            "max_pooling2d_1 (MaxPooling2 (None, 6, 6, 128)         0         \n",
            "_________________________________________________________________\n",
            "conv2d_3 (Conv2D)            (None, 4, 4, 256)         295168    \n",
            "_________________________________________________________________\n",
            "flatten (Flatten)            (None, 4096)              0         \n",
            "_________________________________________________________________\n",
            "dense (Dense)                (None, 2048)              8390656   \n",
            "_________________________________________________________________\n",
            "dense_1 (Dense)              (None, 43)                88107     \n",
            "=================================================================\n",
            "Total params: 8,867,179\n",
            "Trainable params: 8,867,179\n",
            "Non-trainable params: 0\n",
            "_________________________________________________________________\n"
          ],
          "name": "stdout"
        }
      ]
    },
    {
      "cell_type": "markdown",
      "metadata": {
        "id": "ctid-o4Co8U8",
        "colab_type": "text"
      },
      "source": [
        "###50 epok RMS \n",
        "###20 epok adadelta"
      ]
    },
    {
      "cell_type": "code",
      "metadata": {
        "id": "ZcmPligmU4ue",
        "colab_type": "code",
        "colab": {}
      },
      "source": [
        "model.compile(optimizer = 'adadelta',  #optimizers.RMSprop(lr=1e-4), #\n",
        "              loss='categorical_crossentropy',\n",
        "              metrics=['accuracy'])"
      ],
      "execution_count": 0,
      "outputs": []
    },
    {
      "cell_type": "code",
      "metadata": {
        "id": "XQeEJIniXv1Y",
        "colab_type": "code",
        "colab": {}
      },
      "source": [
        "!rm -rf logs\n",
        "!mkdir logs\n",
        "tensorboard = TensorBoard(log_dir='logs')"
      ],
      "execution_count": 0,
      "outputs": []
    },
    {
      "cell_type": "code",
      "metadata": {
        "id": "I3bHf7yaXxbI",
        "colab_type": "code",
        "outputId": "2cac6a33-d231-453a-ec22-5f836258e254",
        "colab": {
          "base_uri": "https://localhost:8080/",
          "height": 1000
        }
      },
      "source": [
        "history = model.fit_generator(generator=train_generator,\n",
        "                              epochs = 50,\n",
        "                              validation_data = valid_generator,\n",
        "                              callbacks = [tensorboard])"
      ],
      "execution_count": 19,
      "outputs": [
        {
          "output_type": "stream",
          "text": [
            "WARNING:tensorflow:sample_weight modes were coerced from\n",
            "  ...\n",
            "    to  \n",
            "  ['...']\n",
            "WARNING:tensorflow:sample_weight modes were coerced from\n",
            "  ...\n",
            "    to  \n",
            "  ['...']\n",
            "Train for 1499 steps, validate for 167 steps\n",
            "Epoch 1/50\n",
            "1499/1499 [==============================] - 24s 16ms/step - loss: 0.1407 - accuracy: 0.9589 - val_loss: 0.1486 - val_accuracy: 0.9579\n",
            "Epoch 2/50\n",
            "1499/1499 [==============================] - 24s 16ms/step - loss: 0.1022 - accuracy: 0.9690 - val_loss: 0.1515 - val_accuracy: 0.9564\n",
            "Epoch 3/50\n",
            "1499/1499 [==============================] - 24s 16ms/step - loss: 0.0963 - accuracy: 0.9714 - val_loss: 0.1299 - val_accuracy: 0.9597\n",
            "Epoch 4/50\n",
            "1499/1499 [==============================] - 24s 16ms/step - loss: 0.0894 - accuracy: 0.9739 - val_loss: 0.1336 - val_accuracy: 0.9624\n",
            "Epoch 5/50\n",
            "1499/1499 [==============================] - 24s 16ms/step - loss: 0.0880 - accuracy: 0.9741 - val_loss: 0.1397 - val_accuracy: 0.9635\n",
            "Epoch 6/50\n",
            "1499/1499 [==============================] - 24s 16ms/step - loss: 0.0862 - accuracy: 0.9746 - val_loss: 0.1367 - val_accuracy: 0.9616\n",
            "Epoch 7/50\n",
            "1499/1499 [==============================] - 24s 16ms/step - loss: 0.0842 - accuracy: 0.9744 - val_loss: 0.1133 - val_accuracy: 0.9718\n",
            "Epoch 8/50\n",
            "1499/1499 [==============================] - 24s 16ms/step - loss: 0.0868 - accuracy: 0.9751 - val_loss: 0.1240 - val_accuracy: 0.9624\n",
            "Epoch 9/50\n",
            "1499/1499 [==============================] - 24s 16ms/step - loss: 0.0795 - accuracy: 0.9757 - val_loss: 0.1342 - val_accuracy: 0.9658\n",
            "Epoch 10/50\n",
            "1499/1499 [==============================] - 24s 16ms/step - loss: 0.0792 - accuracy: 0.9740 - val_loss: 0.1004 - val_accuracy: 0.9703\n",
            "Epoch 11/50\n",
            "1499/1499 [==============================] - 24s 16ms/step - loss: 0.0766 - accuracy: 0.9772 - val_loss: 0.1063 - val_accuracy: 0.9684\n",
            "Epoch 12/50\n",
            "1499/1499 [==============================] - 24s 16ms/step - loss: 0.0765 - accuracy: 0.9768 - val_loss: 0.1025 - val_accuracy: 0.9639\n",
            "Epoch 13/50\n",
            "1499/1499 [==============================] - 24s 16ms/step - loss: 0.0746 - accuracy: 0.9781 - val_loss: 0.1180 - val_accuracy: 0.9718\n",
            "Epoch 14/50\n",
            "1499/1499 [==============================] - 24s 16ms/step - loss: 0.0791 - accuracy: 0.9764 - val_loss: 0.1013 - val_accuracy: 0.9714\n",
            "Epoch 15/50\n",
            "1499/1499 [==============================] - 24s 16ms/step - loss: 0.0754 - accuracy: 0.9767 - val_loss: 0.0959 - val_accuracy: 0.9703\n",
            "Epoch 16/50\n",
            "1499/1499 [==============================] - 24s 16ms/step - loss: 0.0764 - accuracy: 0.9776 - val_loss: 0.1243 - val_accuracy: 0.9710\n",
            "Epoch 17/50\n",
            "1499/1499 [==============================] - 24s 16ms/step - loss: 0.0763 - accuracy: 0.9784 - val_loss: 0.0984 - val_accuracy: 0.9733\n",
            "Epoch 18/50\n",
            "1499/1499 [==============================] - 24s 16ms/step - loss: 0.0763 - accuracy: 0.9774 - val_loss: 0.1281 - val_accuracy: 0.9654\n",
            "Epoch 19/50\n",
            "1499/1499 [==============================] - 23s 15ms/step - loss: 0.0686 - accuracy: 0.9771 - val_loss: 0.1168 - val_accuracy: 0.9703\n",
            "Epoch 20/50\n",
            "1499/1499 [==============================] - 24s 16ms/step - loss: 0.0676 - accuracy: 0.9794 - val_loss: 0.1103 - val_accuracy: 0.9699\n",
            "Epoch 21/50\n",
            "1499/1499 [==============================] - 24s 16ms/step - loss: 0.0773 - accuracy: 0.9781 - val_loss: 0.1094 - val_accuracy: 0.9691\n",
            "Epoch 22/50\n",
            "1499/1499 [==============================] - 24s 16ms/step - loss: 0.0654 - accuracy: 0.9808 - val_loss: 0.0954 - val_accuracy: 0.9703\n",
            "Epoch 23/50\n",
            "1499/1499 [==============================] - 24s 16ms/step - loss: 0.0733 - accuracy: 0.9791 - val_loss: 0.1185 - val_accuracy: 0.9639\n",
            "Epoch 24/50\n",
            "1499/1499 [==============================] - 24s 16ms/step - loss: 0.0715 - accuracy: 0.9774 - val_loss: 0.0945 - val_accuracy: 0.9729\n",
            "Epoch 25/50\n",
            "1499/1499 [==============================] - 23s 16ms/step - loss: 0.0698 - accuracy: 0.9789 - val_loss: 0.1240 - val_accuracy: 0.9688\n",
            "Epoch 26/50\n",
            "1499/1499 [==============================] - 24s 16ms/step - loss: 0.0701 - accuracy: 0.9786 - val_loss: 0.0974 - val_accuracy: 0.9725\n",
            "Epoch 27/50\n",
            "1499/1499 [==============================] - 24s 16ms/step - loss: 0.0700 - accuracy: 0.9788 - val_loss: 0.1021 - val_accuracy: 0.9703\n",
            "Epoch 28/50\n",
            "1499/1499 [==============================] - 24s 16ms/step - loss: 0.0759 - accuracy: 0.9783 - val_loss: 0.0998 - val_accuracy: 0.9789\n",
            "Epoch 29/50\n",
            "1499/1499 [==============================] - 24s 16ms/step - loss: 0.0679 - accuracy: 0.9786 - val_loss: 0.1209 - val_accuracy: 0.9707\n",
            "Epoch 30/50\n",
            "1499/1499 [==============================] - 24s 16ms/step - loss: 0.0676 - accuracy: 0.9797 - val_loss: 0.0983 - val_accuracy: 0.9804\n",
            "Epoch 31/50\n",
            "1499/1499 [==============================] - 23s 16ms/step - loss: 0.0791 - accuracy: 0.9775 - val_loss: 0.1073 - val_accuracy: 0.9703\n",
            "Epoch 32/50\n",
            "1499/1499 [==============================] - 24s 16ms/step - loss: 0.0670 - accuracy: 0.9798 - val_loss: 0.1064 - val_accuracy: 0.9744\n",
            "Epoch 33/50\n",
            "1499/1499 [==============================] - 24s 16ms/step - loss: 0.0705 - accuracy: 0.9797 - val_loss: 0.1210 - val_accuracy: 0.9710\n",
            "Epoch 34/50\n",
            "1499/1499 [==============================] - 24s 16ms/step - loss: 0.0686 - accuracy: 0.9779 - val_loss: 0.0927 - val_accuracy: 0.9703\n",
            "Epoch 35/50\n",
            "1499/1499 [==============================] - 24s 16ms/step - loss: 0.0669 - accuracy: 0.9798 - val_loss: 0.1006 - val_accuracy: 0.9748\n",
            "Epoch 36/50\n",
            "1499/1499 [==============================] - 23s 16ms/step - loss: 0.0734 - accuracy: 0.9784 - val_loss: 0.1065 - val_accuracy: 0.9729\n",
            "Epoch 37/50\n",
            "1499/1499 [==============================] - 24s 16ms/step - loss: 0.0717 - accuracy: 0.9802 - val_loss: 0.0921 - val_accuracy: 0.9740\n",
            "Epoch 38/50\n",
            "1499/1499 [==============================] - 24s 16ms/step - loss: 0.0683 - accuracy: 0.9798 - val_loss: 0.0916 - val_accuracy: 0.9759\n",
            "Epoch 39/50\n",
            "1499/1499 [==============================] - 23s 15ms/step - loss: 0.0692 - accuracy: 0.9770 - val_loss: 0.1135 - val_accuracy: 0.9718\n",
            "Epoch 40/50\n",
            "1499/1499 [==============================] - 24s 16ms/step - loss: 0.0672 - accuracy: 0.9799 - val_loss: 0.0953 - val_accuracy: 0.9714\n",
            "Epoch 41/50\n",
            "1499/1499 [==============================] - 25s 16ms/step - loss: 0.0663 - accuracy: 0.9804 - val_loss: 0.0918 - val_accuracy: 0.9740\n",
            "Epoch 42/50\n",
            "1499/1499 [==============================] - 25s 17ms/step - loss: 0.0632 - accuracy: 0.9819 - val_loss: 0.0764 - val_accuracy: 0.9737\n",
            "Epoch 43/50\n",
            "1499/1499 [==============================] - 25s 17ms/step - loss: 0.0682 - accuracy: 0.9800 - val_loss: 0.0917 - val_accuracy: 0.9688\n",
            "Epoch 44/50\n",
            "1499/1499 [==============================] - 24s 16ms/step - loss: 0.0648 - accuracy: 0.9809 - val_loss: 0.0955 - val_accuracy: 0.9718\n",
            "Epoch 45/50\n",
            "1499/1499 [==============================] - 24s 16ms/step - loss: 0.0712 - accuracy: 0.9801 - val_loss: 0.1337 - val_accuracy: 0.9680\n",
            "Epoch 46/50\n",
            "1499/1499 [==============================] - 24s 16ms/step - loss: 0.0657 - accuracy: 0.9812 - val_loss: 0.0982 - val_accuracy: 0.9733\n",
            "Epoch 47/50\n",
            "1499/1499 [==============================] - 24s 16ms/step - loss: 0.0618 - accuracy: 0.9811 - val_loss: 0.1179 - val_accuracy: 0.9691\n",
            "Epoch 48/50\n",
            "1499/1499 [==============================] - 24s 16ms/step - loss: 0.0628 - accuracy: 0.9819 - val_loss: 0.0994 - val_accuracy: 0.9703\n",
            "Epoch 49/50\n",
            "1499/1499 [==============================] - 23s 16ms/step - loss: 0.0610 - accuracy: 0.9822 - val_loss: 0.0948 - val_accuracy: 0.9755\n",
            "Epoch 50/50\n",
            "1499/1499 [==============================] - 24s 16ms/step - loss: 0.0630 - accuracy: 0.9801 - val_loss: 0.1054 - val_accuracy: 0.9707\n"
          ],
          "name": "stdout"
        }
      ]
    },
    {
      "cell_type": "code",
      "metadata": {
        "id": "rFXk8eAfa6W5",
        "colab_type": "code",
        "outputId": "7a673703-68c6-4e63-ca11-c53df8f1636b",
        "colab": {
          "base_uri": "https://localhost:8080/",
          "height": 608
        }
      },
      "source": [
        "%load_ext tensorboard\n",
        "!tensorboard dev upload --logdir logs"
      ],
      "execution_count": 20,
      "outputs": [
        {
          "output_type": "stream",
          "text": [
            "\n",
            "***** TensorBoard Uploader *****\n",
            "\n",
            "This will upload your TensorBoard logs to https://tensorboard.dev/ from\n",
            "the following directory:\n",
            "\n",
            "logs\n",
            "\n",
            "This TensorBoard will be visible to everyone. Do not upload sensitive\n",
            "data.\n",
            "\n",
            "Your use of this service is subject to Google's Terms of Service\n",
            "<https://policies.google.com/terms> and Privacy Policy\n",
            "<https://policies.google.com/privacy>, and TensorBoard.dev's Terms of Service\n",
            "<https://tensorboard.dev/policy/terms/>.\n",
            "\n",
            "This notice will not be shown again while you are logged into the uploader.\n",
            "To log out, run `tensorboard dev auth revoke`.\n",
            "\n",
            "Continue? (yes/NO) yes\n",
            "\n",
            "Please visit this URL to authorize this application: https://accounts.google.com/o/oauth2/auth?response_type=code&client_id=373649185512-8v619h5kft38l4456nm2dj4ubeqsrvh6.apps.googleusercontent.com&redirect_uri=urn%3Aietf%3Awg%3Aoauth%3A2.0%3Aoob&scope=openid+https%3A%2F%2Fwww.googleapis.com%2Fauth%2Fuserinfo.email&state=los40zBinGo5Uzfv1gMsRyJ9lCxlC5&prompt=consent&access_type=offline\n",
            "Enter the authorization code: 4/vAHaAb8Qc2Y_CQI4bzNKxULfZzKat0B5j8l1mzsfUhiZvEeh1U9o6Ro\n",
            "\n",
            "Upload started and will continue reading any new data as it's added\n",
            "to the logdir. To stop uploading, press Ctrl-C.\n",
            "View your TensorBoard live at: https://tensorboard.dev/experiment/CbmR51rxQCyNpNN8Qe2Tww/\n",
            "\n",
            "Upload stopped. View your TensorBoard at https://tensorboard.dev/experiment/CbmR51rxQCyNpNN8Qe2Tww/\n",
            "Exception ignored in: <bound method PyRecordReader.<lambda> of <tensorflow.python.pywrap_tensorflow_internal.PyRecordReader; proxy of <Swig Object of type 'tensorflow::io::PyRecordReader *' at 0x7fa968f7b630> >>\n",
            "Traceback (most recent call last):\n",
            "  File \"/tensorflow-2.1.0/python3.6/tensorflow_core/python/pywrap_tensorflow_internal.py\", line 903, in <lambda>\n",
            "    __del__ = lambda self: None\n",
            "KeyboardInterrupt\n"
          ],
          "name": "stdout"
        }
      ]
    },
    {
      "cell_type": "markdown",
      "metadata": {
        "id": "8lThZMnpGrML",
        "colab_type": "text"
      },
      "source": [
        "#TEST SET"
      ]
    },
    {
      "cell_type": "code",
      "metadata": {
        "id": "k5itGH9OGpUi",
        "colab_type": "code",
        "colab": {}
      },
      "source": [
        "import csv\n",
        "\n",
        "signs_classes = {}\n",
        "file_name = \"\"\n",
        "with open('./GT-final_test.csv', mode='r') as csv_file:\n",
        "    csv_reader = csv.reader(csv_file, delimiter=';')\n",
        "    line_count = 0\n",
        "    for row in csv_reader:\n",
        "      line_count += 1\n",
        "      if 1 < line_count:\n",
        "        signs_classes[row[0]] = row[7]"
      ],
      "execution_count": 0,
      "outputs": []
    },
    {
      "cell_type": "code",
      "metadata": {
        "id": "vtRYqvkys9-x",
        "colab_type": "code",
        "colab": {}
      },
      "source": [
        "signs_test_names = []\n",
        "signs_test_names.append(os.listdir('./GTSRB/Final_Test/Images'))\n",
        "\n",
        "for j,name in enumerate(signs_test_names):\n",
        "  for k,n in enumerate(name):\n",
        "    src = os.path.join('./GTSRB/Final_Test/Images',n)\n",
        "    dst = os.path.join(dirs_test[int(signs_classes[n])],n)\n",
        "    shutil.copyfile(src,dst) "
      ],
      "execution_count": 0,
      "outputs": []
    },
    {
      "cell_type": "code",
      "metadata": {
        "id": "WqKsRUgOIa6Z",
        "colab_type": "code",
        "outputId": "be00603e-e3e2-4e0e-c4a8-9c415152216b",
        "colab": {
          "base_uri": "https://localhost:8080/",
          "height": 104
        }
      },
      "source": [
        "test_datagen = ImageDataGenerator(rescale=1./255.)\n",
        "test_generator = test_datagen.flow_from_directory(\n",
        "    './train_and_valid_signs/test/',\n",
        "    target_size = (32,32),\n",
        "    batch_size = 1,\n",
        "    class_mode = 'categorical',\n",
        "    shuffle = False\n",
        ")\n",
        "\n",
        "y_prob = model.predict_generator(test_generator, test_generator.samples)"
      ],
      "execution_count": 23,
      "outputs": [
        {
          "output_type": "stream",
          "text": [
            "Found 12630 images belonging to 43 classes.\n",
            "WARNING:tensorflow:From <ipython-input-23-be52688f1cf6>:10: Model.predict_generator (from tensorflow.python.keras.engine.training) is deprecated and will be removed in a future version.\n",
            "Instructions for updating:\n",
            "Please use Model.predict, which supports generators.\n"
          ],
          "name": "stdout"
        }
      ]
    },
    {
      "cell_type": "code",
      "metadata": {
        "id": "f072CKAmJrmj",
        "colab_type": "code",
        "outputId": "a927981d-fd1d-444a-97fd-a30a572fe0d6",
        "colab": {
          "base_uri": "https://localhost:8080/",
          "height": 34
        }
      },
      "source": [
        "y_pred = np.argmax(y_prob,axis=1)\n",
        "y_pred"
      ],
      "execution_count": 24,
      "outputs": [
        {
          "output_type": "execute_result",
          "data": {
            "text/plain": [
              "array([ 1,  1,  1, ..., 42, 42, 42])"
            ]
          },
          "metadata": {
            "tags": []
          },
          "execution_count": 24
        }
      ]
    },
    {
      "cell_type": "code",
      "metadata": {
        "id": "rof-BkSgJ7tD",
        "colab_type": "code",
        "outputId": "64a503a0-0a45-4fa6-e631-0e3dd1983ce2",
        "colab": {
          "base_uri": "https://localhost:8080/",
          "height": 402
        }
      },
      "source": [
        "predictions = pd.DataFrame({'class':y_pred})\n",
        "predictions"
      ],
      "execution_count": 25,
      "outputs": [
        {
          "output_type": "execute_result",
          "data": {
            "text/html": [
              "<div>\n",
              "<style scoped>\n",
              "    .dataframe tbody tr th:only-of-type {\n",
              "        vertical-align: middle;\n",
              "    }\n",
              "\n",
              "    .dataframe tbody tr th {\n",
              "        vertical-align: top;\n",
              "    }\n",
              "\n",
              "    .dataframe thead th {\n",
              "        text-align: right;\n",
              "    }\n",
              "</style>\n",
              "<table border=\"1\" class=\"dataframe\">\n",
              "  <thead>\n",
              "    <tr style=\"text-align: right;\">\n",
              "      <th></th>\n",
              "      <th>class</th>\n",
              "    </tr>\n",
              "  </thead>\n",
              "  <tbody>\n",
              "    <tr>\n",
              "      <th>0</th>\n",
              "      <td>1</td>\n",
              "    </tr>\n",
              "    <tr>\n",
              "      <th>1</th>\n",
              "      <td>1</td>\n",
              "    </tr>\n",
              "    <tr>\n",
              "      <th>2</th>\n",
              "      <td>1</td>\n",
              "    </tr>\n",
              "    <tr>\n",
              "      <th>3</th>\n",
              "      <td>0</td>\n",
              "    </tr>\n",
              "    <tr>\n",
              "      <th>4</th>\n",
              "      <td>1</td>\n",
              "    </tr>\n",
              "    <tr>\n",
              "      <th>...</th>\n",
              "      <td>...</td>\n",
              "    </tr>\n",
              "    <tr>\n",
              "      <th>12625</th>\n",
              "      <td>42</td>\n",
              "    </tr>\n",
              "    <tr>\n",
              "      <th>12626</th>\n",
              "      <td>42</td>\n",
              "    </tr>\n",
              "    <tr>\n",
              "      <th>12627</th>\n",
              "      <td>42</td>\n",
              "    </tr>\n",
              "    <tr>\n",
              "      <th>12628</th>\n",
              "      <td>42</td>\n",
              "    </tr>\n",
              "    <tr>\n",
              "      <th>12629</th>\n",
              "      <td>42</td>\n",
              "    </tr>\n",
              "  </tbody>\n",
              "</table>\n",
              "<p>12630 rows × 1 columns</p>\n",
              "</div>"
            ],
            "text/plain": [
              "       class\n",
              "0          1\n",
              "1          1\n",
              "2          1\n",
              "3          0\n",
              "4          1\n",
              "...      ...\n",
              "12625     42\n",
              "12626     42\n",
              "12627     42\n",
              "12628     42\n",
              "12629     42\n",
              "\n",
              "[12630 rows x 1 columns]"
            ]
          },
          "metadata": {
            "tags": []
          },
          "execution_count": 25
        }
      ]
    },
    {
      "cell_type": "code",
      "metadata": {
        "id": "mZz6337bKQ_Z",
        "colab_type": "code",
        "outputId": "3579dc75-3132-42ca-b6b5-c7ab85f6ca23",
        "colab": {
          "base_uri": "https://localhost:8080/",
          "height": 34
        }
      },
      "source": [
        "y_true = test_generator.classes\n",
        "y_true"
      ],
      "execution_count": 26,
      "outputs": [
        {
          "output_type": "execute_result",
          "data": {
            "text/plain": [
              "array([ 0,  0,  0, ..., 42, 42, 42], dtype=int32)"
            ]
          },
          "metadata": {
            "tags": []
          },
          "execution_count": 26
        }
      ]
    },
    {
      "cell_type": "code",
      "metadata": {
        "id": "9h1KPjuTKho7",
        "colab_type": "code",
        "outputId": "a3266656-68c5-430a-aa46-58f2ac9578ba",
        "colab": {
          "base_uri": "https://localhost:8080/",
          "height": 50
        }
      },
      "source": [
        "cm = confusion_matrix(y_true,y_pred)\n",
        "print(cm[39])"
      ],
      "execution_count": 43,
      "outputs": [
        {
          "output_type": "stream",
          "text": [
            "[ 0  0  0  0  0  0  0  0  0  0  0  0  0  0  0  0  0  0  0  0  0  0  0  0\n",
            "  0  0  0  0  0  0  0  0  0  5  0  0  0  0 59 26  0  0  0]\n"
          ],
          "name": "stdout"
        }
      ]
    },
    {
      "cell_type": "code",
      "metadata": {
        "id": "SAVRxOPsolUQ",
        "colab_type": "code",
        "outputId": "bca0c928-678a-4c50-b440-3dc7c93d7fd1",
        "colab": {
          "base_uri": "https://localhost:8080/",
          "height": 857
        }
      },
      "source": [
        "print(classification_report(y_true,y_pred,target_names=test_generator.class_indices.keys()))"
      ],
      "execution_count": 29,
      "outputs": [
        {
          "output_type": "stream",
          "text": [
            "              precision    recall  f1-score   support\n",
            "\n",
            "       00000       0.77      0.50      0.61        60\n",
            "       00001       0.78      0.97      0.86       720\n",
            "       00002       0.80      0.88      0.84       750\n",
            "       00003       0.90      0.82      0.86       450\n",
            "       00004       0.96      0.88      0.92       660\n",
            "       00005       0.82      0.83      0.83       630\n",
            "       00006       0.96      0.95      0.96       150\n",
            "       00007       0.93      0.88      0.91       450\n",
            "       00008       0.94      0.86      0.90       450\n",
            "       00009       0.99      0.94      0.97       480\n",
            "       00010       0.96      0.99      0.98       660\n",
            "       00011       0.91      0.93      0.92       420\n",
            "       00012       0.94      0.88      0.91       690\n",
            "       00013       0.94      0.95      0.95       720\n",
            "       00014       0.96      1.00      0.98       270\n",
            "       00015       0.99      0.94      0.97       210\n",
            "       00016       0.99      0.99      0.99       150\n",
            "       00017       1.00      0.80      0.89       360\n",
            "       00018       0.95      0.79      0.86       390\n",
            "       00019       0.35      0.98      0.51        60\n",
            "       00020       0.59      0.30      0.40        90\n",
            "       00021       0.55      0.56      0.55        90\n",
            "       00022       0.88      0.75      0.81       120\n",
            "       00023       0.57      0.58      0.57       150\n",
            "       00024       0.93      0.98      0.95        90\n",
            "       00025       0.85      0.91      0.88       480\n",
            "       00026       0.92      0.96      0.94       180\n",
            "       00027       0.83      0.48      0.61        60\n",
            "       00028       0.71      0.84      0.77       150\n",
            "       00029       0.81      1.00      0.90        90\n",
            "       00030       0.97      0.49      0.65       150\n",
            "       00031       0.96      0.89      0.93       270\n",
            "       00032       0.71      0.98      0.83        60\n",
            "       00033       0.68      0.79      0.73       210\n",
            "       00034       0.72      0.88      0.79       120\n",
            "       00035       1.00      0.80      0.89       390\n",
            "       00036       0.80      0.82      0.81       120\n",
            "       00037       0.87      0.80      0.83        60\n",
            "       00038       0.82      0.77      0.79       690\n",
            "       00039       0.29      0.29      0.29        90\n",
            "       00040       0.46      0.97      0.62        90\n",
            "       00041       0.76      0.58      0.66        60\n",
            "       00042       0.99      0.90      0.94        90\n",
            "\n",
            "    accuracy                           0.86     12630\n",
            "   macro avg       0.83      0.82      0.81     12630\n",
            "weighted avg       0.88      0.86      0.87     12630\n",
            "\n"
          ],
          "name": "stdout"
        }
      ]
    }
  ]
}