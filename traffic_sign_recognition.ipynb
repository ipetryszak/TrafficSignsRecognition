{
  "nbformat": 4,
  "nbformat_minor": 0,
  "metadata": {
    "colab": {
      "name": "traffic_sign_recognition.ipynb",
      "provenance": [],
      "toc_visible": true,
      "include_colab_link": true
    },
    "kernelspec": {
      "name": "python3",
      "display_name": "Python 3"
    },
    "accelerator": "GPU"
  },
  "cells": [
    {
      "cell_type": "markdown",
      "metadata": {
        "id": "view-in-github",
        "colab_type": "text"
      },
      "source": [
        "<a href=\"https://colab.research.google.com/github/skorpiom/traffic_sign_rec/blob/master/traffic_sign_recognition.ipynb\" target=\"_parent\"><img src=\"https://colab.research.google.com/assets/colab-badge.svg\" alt=\"Open In Colab\"/></a>"
      ]
    },
    {
      "cell_type": "code",
      "metadata": {
        "id": "NfjxHdfIeA4q",
        "colab_type": "code",
        "colab": {}
      },
      "source": [
        "!rm -rf sample_data\n",
        "!rm -rf train_and_valid_signs"
      ],
      "execution_count": 0,
      "outputs": []
    },
    {
      "cell_type": "code",
      "metadata": {
        "id": "7WyfMCT8tZdr",
        "colab_type": "code",
        "colab": {
          "base_uri": "https://localhost:8080/",
          "height": 34
        },
        "outputId": "25082b4d-f570-4d83-b28a-dc0462adbb51"
      },
      "source": [
        "%tensorflow_version 2.x\n",
        "import os\n",
        "import numpy as np\n",
        "import pandas as pd\n",
        "from pandas.io.parsers import read_csv\n",
        "import matplotlib.pyplot as plt\n",
        "import shutil\n",
        "import plotly.graph_objects as go\n",
        "from sklearn.metrics import confusion_matrix, classification_report\n",
        "\n",
        "from tensorflow.keras.preprocessing import image\n",
        "from tensorflow.keras.preprocessing.image import ImageDataGenerator\n",
        "from tensorflow.keras.models import Sequential\n",
        "from tensorflow.keras import layers\n",
        "from tensorflow.keras import optimizers\n",
        "from tensorflow.keras.callbacks import TensorBoard\n",
        "from tensorflow.keras.applications import VGG16\n",
        "\n",
        "np.set_printoptions(precision = 6, suppress = True)"
      ],
      "execution_count": 2,
      "outputs": [
        {
          "output_type": "stream",
          "text": [
            "TensorFlow 2.x selected.\n"
          ],
          "name": "stdout"
        }
      ]
    },
    {
      "cell_type": "code",
      "metadata": {
        "id": "lMSPpKQze6zy",
        "colab_type": "code",
        "colab": {
          "base_uri": "https://localhost:8080/",
          "height": 571
        },
        "outputId": "bb3d0966-1f94-495f-cf8b-6ad7eda20ce9"
      },
      "source": [
        "!wget https://sid.erda.dk/public/archives/daaeac0d7ce1152aea9b61d9f1e19370/GTSRB-Training_fixed.zip\n",
        "!unzip -q GTSRB-Training_fixed.zip\n",
        "\n",
        "#download test set (signs in random order) and legend\n",
        "!wget https://sid.erda.dk/public/archives/daaeac0d7ce1152aea9b61d9f1e19370/GTSRB_Final_Test_Images.zip\n",
        "!unzip -q GTSRB_Final_Test_Images.zip\n",
        "!wget https://sid.erda.dk/public/archives/daaeac0d7ce1152aea9b61d9f1e19370/GTSRB_Final_Test_GT.zip\n",
        "!unzip -q GTSRB_Final_Test_GT.zip"
      ],
      "execution_count": 3,
      "outputs": [
        {
          "output_type": "stream",
          "text": [
            "--2019-12-30 15:13:33--  https://sid.erda.dk/public/archives/daaeac0d7ce1152aea9b61d9f1e19370/GTSRB-Training_fixed.zip\n",
            "Resolving sid.erda.dk (sid.erda.dk)... 130.225.104.13\n",
            "Connecting to sid.erda.dk (sid.erda.dk)|130.225.104.13|:443... connected.\n",
            "HTTP request sent, awaiting response... 200 OK\n",
            "Length: 187490228 (179M) [application/zip]\n",
            "Saving to: ‘GTSRB-Training_fixed.zip’\n",
            "\n",
            "GTSRB-Training_fixe 100%[===================>] 178.80M  22.9MB/s    in 8.8s    \n",
            "\n",
            "2019-12-30 15:13:47 (20.4 MB/s) - ‘GTSRB-Training_fixed.zip’ saved [187490228/187490228]\n",
            "\n",
            "--2019-12-30 15:13:54--  https://sid.erda.dk/public/archives/daaeac0d7ce1152aea9b61d9f1e19370/GTSRB_Final_Test_Images.zip\n",
            "Resolving sid.erda.dk (sid.erda.dk)... 130.225.104.13\n",
            "Connecting to sid.erda.dk (sid.erda.dk)|130.225.104.13|:443... connected.\n",
            "HTTP request sent, awaiting response... 200 OK\n",
            "Length: 88978620 (85M) [application/zip]\n",
            "Saving to: ‘GTSRB_Final_Test_Images.zip’\n",
            "\n",
            "GTSRB_Final_Test_Im 100%[===================>]  84.86M  21.1MB/s    in 4.7s    \n",
            "\n",
            "2019-12-30 15:13:59 (18.0 MB/s) - ‘GTSRB_Final_Test_Images.zip’ saved [88978620/88978620]\n",
            "\n",
            "--2019-12-30 15:14:03--  https://sid.erda.dk/public/archives/daaeac0d7ce1152aea9b61d9f1e19370/GTSRB_Final_Test_GT.zip\n",
            "Resolving sid.erda.dk (sid.erda.dk)... 130.225.104.13\n",
            "Connecting to sid.erda.dk (sid.erda.dk)|130.225.104.13|:443... connected.\n",
            "HTTP request sent, awaiting response... 200 OK\n",
            "Length: 99620 (97K) [application/zip]\n",
            "Saving to: ‘GTSRB_Final_Test_GT.zip’\n",
            "\n",
            "GTSRB_Final_Test_GT 100%[===================>]  97.29K   264KB/s    in 0.4s    \n",
            "\n",
            "2019-12-30 15:14:04 (264 KB/s) - ‘GTSRB_Final_Test_GT.zip’ saved [99620/99620]\n",
            "\n"
          ],
          "name": "stdout"
        }
      ]
    },
    {
      "cell_type": "code",
      "metadata": {
        "id": "aaOaa5uhZbsn",
        "colab_type": "code",
        "colab": {}
      },
      "source": [
        "!rm -rf ./GTSRB-Training_fixed.zip\n",
        "!rm -rf ./GTSRB_Final_Test_GT.zip\n",
        "!rm -rf ./GTSRB_Final_Test_Images.zip\n",
        "!rm -rf ./GTSRB/Final_Test/Images/GT-final_test.test.csv"
      ],
      "execution_count": 0,
      "outputs": []
    },
    {
      "cell_type": "code",
      "metadata": {
        "id": "tKtwh6NQtbct",
        "colab_type": "code",
        "colab": {
          "base_uri": "https://localhost:8080/",
          "height": 54
        },
        "outputId": "3b8f4a62-f4be-4b06-d903-d3288eeec5ff"
      },
      "source": [
        "base_dir = './GTSRB/Training'\n",
        "raw_no_of_files = {}\n",
        "classes = []\n",
        "for n in range(0,43):\n",
        "  if n<10:\n",
        "    classes.append(\"0000\"+str(n))\n",
        "  else:\n",
        "    classes.append(\"000\"+str(n))\n",
        "\n",
        "for dir in classes:\n",
        "  raw_no_of_files[dir] = len(os.listdir(os.path.join(base_dir,dir)))\n",
        "\n",
        "raw_no_of_files.items()"
      ],
      "execution_count": 5,
      "outputs": [
        {
          "output_type": "execute_result",
          "data": {
            "text/plain": [
              "dict_items([('00000', 151), ('00001', 1501), ('00002', 1501), ('00003', 961), ('00004', 1321), ('00005', 1261), ('00006', 301), ('00007', 961), ('00008', 961), ('00009', 991), ('00010', 1351), ('00011', 901), ('00012', 1411), ('00013', 1441), ('00014', 541), ('00015', 421), ('00016', 301), ('00017', 751), ('00018', 811), ('00019', 151), ('00020', 241), ('00021', 241), ('00022', 271), ('00023', 361), ('00024', 181), ('00025', 1021), ('00026', 421), ('00027', 181), ('00028', 361), ('00029', 181), ('00030', 301), ('00031', 541), ('00032', 181), ('00033', 481), ('00034', 301), ('00035', 811), ('00036', 271), ('00037', 151), ('00038', 1381), ('00039', 211), ('00040', 241), ('00041', 181), ('00042', 181)])"
            ]
          },
          "metadata": {
            "tags": []
          },
          "execution_count": 5
        }
      ]
    },
    {
      "cell_type": "code",
      "metadata": {
        "id": "SDk2VufBzHX3",
        "colab_type": "code",
        "colab": {}
      },
      "source": [
        "data_dir = './train_and_valid_signs'\n",
        "dirs_train = []\n",
        "dirs_valid = []\n",
        "dirs_test = []\n",
        "\n",
        "train_dir = os.path.join(data_dir,'train') #katalog treningowy\n",
        "valid_dir = os.path.join(data_dir,'valid') #katalog walidacyjny\n",
        "test_dir = os.path.join(data_dir,'test') #katalog testowy\n",
        "\n",
        "for n in range(0,43):\n",
        "  dirs_train.append(os.path.join(train_dir,classes[n])) #sciezki z katalogami docelowymi zbior treningowy\n",
        "\n",
        "for n in range(0,43):\n",
        "  dirs_valid.append(os.path.join(valid_dir,classes[n])) #sciezki z katalogami docelowymi zbior walidacyjny\n",
        "\n",
        "for n in range(0,43):\n",
        "  dirs_test.append(os.path.join(test_dir,classes[n])) #sciezki z katalogami docelowymi zbior testowy\n",
        "\n",
        "if not os.path.exists(data_dir):\n",
        "  os.mkdir(data_dir)\n",
        "  \n",
        "for directory in (train_dir,valid_dir,test_dir):\n",
        "  if not os.path.exists(directory):\n",
        "    os.mkdir(directory)\n",
        "\n",
        "for directory in dirs_train:\n",
        "  if not os.path.exists(directory):\n",
        "    os.mkdir(directory)\n",
        "\n",
        "for directory in dirs_valid:\n",
        "  if not os.path.exists(directory):\n",
        "    os.mkdir(directory)\n",
        "\n",
        "for directory in dirs_test:\n",
        "  if not os.path.exists(directory):\n",
        "    os.mkdir(directory)"
      ],
      "execution_count": 0,
      "outputs": []
    },
    {
      "cell_type": "markdown",
      "metadata": {
        "id": "X5q60TwSrB3L",
        "colab_type": "text"
      },
      "source": [
        "#DISPLAY INDICATED SIGN"
      ]
    },
    {
      "cell_type": "code",
      "metadata": {
        "id": "6ATvJIdIeJHc",
        "colab_type": "code",
        "outputId": "b3736684-1f3b-4e31-c082-58a6dcb6f132",
        "colab": {
          "base_uri": "https://localhost:8080/",
          "height": 118
        }
      },
      "source": [
        "img_path = os.path.join('./train_and_valid_signs','test','00039','02050.ppm')\n",
        "print(img_path)\n",
        "img = image.load_img(img_path)\n",
        "plt.figure(figsize=(1,1))\n",
        "plt.imshow(img)\n",
        "plt.grid(False)\n",
        "plt.axis(False)"
      ],
      "execution_count": 95,
      "outputs": [
        {
          "output_type": "stream",
          "text": [
            "./train_and_valid_signs/test/00039/02050.ppm\n"
          ],
          "name": "stdout"
        },
        {
          "output_type": "execute_result",
          "data": {
            "text/plain": [
              "(-0.5, 41.5, 46.5, -0.5)"
            ]
          },
          "metadata": {
            "tags": []
          },
          "execution_count": 95
        },
        {
          "output_type": "display_data",
          "data": {
            "image/png": "[encoded data removed]",
            "text/plain": [
              "<Figure size 72x72 with 1 Axes>"
            ]
          },
          "metadata": {
            "tags": []
          }
        }
      ]
    },
    {
      "cell_type": "code",
      "metadata": {
        "id": "nu6phs3CilvU",
        "colab_type": "code",
        "outputId": "8bb63395-4463-44bc-ebe9-fbde1802eee2",
        "colab": {
          "base_uri": "https://localhost:8080/",
          "height": 50
        }
      },
      "source": [
        "sign_fnames = []\n",
        "for ind in range(0,43):\n",
        "  sign_fnames.append(os.listdir(os.path.join(base_dir,classes[ind])))  \n",
        "\n",
        "print('00000 liczba obiektow: ',len(sign_fnames[0]))\n",
        "print('00001 liczba obiektow: ',len(sign_fnames[1]))"
      ],
      "execution_count": 7,
      "outputs": [
        {
          "output_type": "stream",
          "text": [
            "00000 liczba obiektow:  151\n",
            "00001 liczba obiektow:  1501\n"
          ],
          "name": "stdout"
        }
      ]
    },
    {
      "cell_type": "code",
      "metadata": {
        "id": "LVuWmzKiqw39",
        "colab_type": "code",
        "colab": {}
      },
      "source": [
        "for i,fname in enumerate(sign_fnames):\n",
        "  for j,name in enumerate(fname):\n",
        "    if j<=0.9*int(np.floor(len(fname))):\n",
        "      src = os.path.join(base_dir,classes[i],name)\n",
        "      dst = os.path.join(dirs_train[i],name)\n",
        "      shutil.copyfile(src,dst)\n",
        "    if 0.9*int(np.floor(len(fname))) < j <= len(fname):\n",
        "      src = os.path.join(base_dir,classes[i],name)\n",
        "      dst = os.path.join(dirs_valid[i],name)\n",
        "      shutil.copyfile(src,dst)"
      ],
      "execution_count": 0,
      "outputs": []
    },
    {
      "cell_type": "code",
      "metadata": {
        "id": "MZ42aaDc84nH",
        "colab_type": "code",
        "outputId": "e21fd03b-d144-4821-c83f-ff7352757a0c",
        "colab": {
          "base_uri": "https://localhost:8080/",
          "height": 84
        }
      },
      "source": [
        "print('00000 zbior treningowy ',len(os.listdir(dirs_train[0])))\n",
        "print('00000 zbior walidacyjny ',len(os.listdir(dirs_valid[0])))\n",
        "\n",
        "print('00001 zbior treningowy ',len(os.listdir(dirs_train[1])))\n",
        "print('00001 zbior walidacyjny ',len(os.listdir(dirs_valid[1])))"
      ],
      "execution_count": 97,
      "outputs": [
        {
          "output_type": "stream",
          "text": [
            "00000 zbior treningowy  136\n",
            "00000 zbior walidacyjny  30\n",
            "00001 zbior treningowy  1351\n",
            "00001 zbior walidacyjny  300\n"
          ],
          "name": "stdout"
        }
      ]
    },
    {
      "cell_type": "markdown",
      "metadata": {
        "id": "RCWoQ5IY_R6U",
        "colab_type": "text"
      },
      "source": [
        "#AUGMENTACJA DANYCH"
      ]
    },
    {
      "cell_type": "code",
      "metadata": {
        "id": "E3naRxdW84cN",
        "colab_type": "code",
        "outputId": "8134d945-49fc-4672-8a51-d252c445e1c2",
        "colab": {
          "base_uri": "https://localhost:8080/",
          "height": 50
        }
      },
      "source": [
        "train_datagen = ImageDataGenerator(\n",
        "    rotation_range = 40,\n",
        "    rescale = 1./255.,\n",
        "    width_shift_range = 0.2,\n",
        "    height_shift_range = 0.2,\n",
        "    shear_range = 0.2,\n",
        "    zoom_range = 0.2,\n",
        "    horizontal_flip = True,\n",
        "    fill_mode = 'nearest'\n",
        ")\n",
        "\n",
        "valid_datagen = ImageDataGenerator(rescale = 1./255.) #przeskalowanie danych\n",
        "\n",
        "train_generator = train_datagen.flow_from_directory(directory = train_dir,\n",
        "                                                    target_size=(32,32),\n",
        "                                                    batch_size = 16,\n",
        "                                                    class_mode='categorical')\n",
        "valid_generator = train_datagen.flow_from_directory(directory = valid_dir,\n",
        "                                                    target_size=(32,32),\n",
        "                                                    batch_size = 16,\n",
        "                                                    class_mode='categorical')"
      ],
      "execution_count": 153,
      "outputs": [
        {
          "output_type": "stream",
          "text": [
            "Found 23980 images belonging to 43 classes.\n",
            "Found 5321 images belonging to 43 classes.\n"
          ],
          "name": "stdout"
        }
      ]
    },
    {
      "cell_type": "markdown",
      "metadata": {
        "id": "PN2J_L_X33Tl",
        "colab_type": "text"
      },
      "source": [
        "#TRANSFER LEARNING"
      ]
    },
    {
      "cell_type": "code",
      "metadata": {
        "id": "2uXxVNn_32r0",
        "colab_type": "code",
        "outputId": "1c059560-971a-4c04-fef0-aa13915086a3",
        "colab": {
          "base_uri": "https://localhost:8080/",
          "height": 336
        }
      },
      "source": [
        "conv_base = VGG16(weights = 'imagenet', include_top = False, input_shape=(32,32,3))\n",
        "conv_base.trainable = False\n",
        "\n",
        "def print_layers(model):\n",
        "  for layer in model.layers:\n",
        "    print(f'layer_name {layer.name:13} trainable: {layer.trainable}')\n",
        "\n",
        "set_trainable = False\n",
        "for layer in conv_base.layers:\n",
        "  if layer.name =='block5_conv1':\n",
        "    set_trainable = True\n",
        "  if set_trainable:\n",
        "    layer.trainable = True\n",
        "  else:\n",
        "    layer.trainable = False\n",
        "\n",
        "print_layers(conv_base)\n"
      ],
      "execution_count": 0,
      "outputs": [
        {
          "output_type": "stream",
          "text": [
            "layer_name input_7       trainable: False\n",
            "layer_name block1_conv1  trainable: False\n",
            "layer_name block1_conv2  trainable: False\n",
            "layer_name block1_pool   trainable: False\n",
            "layer_name block2_conv1  trainable: False\n",
            "layer_name block2_conv2  trainable: False\n",
            "layer_name block2_pool   trainable: False\n",
            "layer_name block3_conv1  trainable: False\n",
            "layer_name block3_conv2  trainable: False\n",
            "layer_name block3_conv3  trainable: False\n",
            "layer_name block3_pool   trainable: False\n",
            "layer_name block4_conv1  trainable: False\n",
            "layer_name block4_conv2  trainable: False\n",
            "layer_name block4_conv3  trainable: False\n",
            "layer_name block4_pool   trainable: False\n",
            "layer_name block5_conv1  trainable: True\n",
            "layer_name block5_conv2  trainable: True\n",
            "layer_name block5_conv3  trainable: True\n",
            "layer_name block5_pool   trainable: True\n"
          ],
          "name": "stdout"
        }
      ]
    },
    {
      "cell_type": "code",
      "metadata": {
        "id": "NlJ0Lkp-59lc",
        "colab_type": "code",
        "outputId": "0a662bd2-2333-4ad7-aa08-249efa84e971",
        "colab": {
          "base_uri": "https://localhost:8080/",
          "height": 286
        }
      },
      "source": [
        "model = Sequential()\n",
        "model.add(conv_base)\n",
        "model.add(layers.Flatten())\n",
        "model.add(layers.Dense(units = 1024, activation = 'relu'))\n",
        "model.add(layers.Dense(units = 43, activation = 'softmax'))\n",
        "model.summary()"
      ],
      "execution_count": 0,
      "outputs": [
        {
          "output_type": "stream",
          "text": [
            "Model: \"sequential_5\"\n",
            "_________________________________________________________________\n",
            "Layer (type)                 Output Shape              Param #   \n",
            "=================================================================\n",
            "vgg16 (Model)                (None, 1, 1, 512)         14714688  \n",
            "_________________________________________________________________\n",
            "flatten_5 (Flatten)          (None, 512)               0         \n",
            "_________________________________________________________________\n",
            "dense_10 (Dense)             (None, 1024)              525312    \n",
            "_________________________________________________________________\n",
            "dense_11 (Dense)             (None, 43)                44075     \n",
            "=================================================================\n",
            "Total params: 15,284,075\n",
            "Trainable params: 569,387\n",
            "Non-trainable params: 14,714,688\n",
            "_________________________________________________________________\n"
          ],
          "name": "stdout"
        }
      ]
    },
    {
      "cell_type": "code",
      "metadata": {
        "id": "NuJvZM-p7GsZ",
        "colab_type": "code",
        "colab": {}
      },
      "source": [
        "model.compile(optimizer=optimizers.RMSprop(lr=1e-4),\n",
        "              loss='categorical_crossentropy',\n",
        "              metrics=['accuracy'])"
      ],
      "execution_count": 0,
      "outputs": []
    },
    {
      "cell_type": "code",
      "metadata": {
        "id": "kFNHu_l17XT1",
        "colab_type": "code",
        "colab": {}
      },
      "source": [
        "history = model.fit_generator(generator=train_generator,\n",
        "                              epochs = 50,\n",
        "                              validation_data = valid_generator,\n",
        "                              callbacks = [tensorboard])"
      ],
      "execution_count": 0,
      "outputs": []
    },
    {
      "cell_type": "markdown",
      "metadata": {
        "id": "Rp0doLYEQZA2",
        "colab_type": "text"
      },
      "source": [
        "#BUDOWA MODELU"
      ]
    },
    {
      "cell_type": "code",
      "metadata": {
        "id": "jyBNveOWNq_m",
        "colab_type": "code",
        "outputId": "22af00b7-ce52-48e5-a9cc-da8d268bd0f0",
        "colab": {
          "base_uri": "https://localhost:8080/",
          "height": 454
        }
      },
      "source": [
        "model = Sequential()\n",
        "model.add(layers.Conv2D(filters=32, kernel_size=(3,3),activation='relu',input_shape=(32, 32, 3)))\n",
        "model.add(layers.Conv2D(filters=64,kernel_size=(3,3),activation='relu'))\n",
        "model.add(layers.MaxPooling2D(pool_size=(2,2)))\n",
        "model.add(layers.Conv2D(filters=128,kernel_size=(3,3),activation='relu'))\n",
        "model.add(layers.MaxPooling2D(pool_size=(2,2)))\n",
        "model.add(layers.Conv2D(filters=256,kernel_size=(3,3),activation='relu'))\n",
        "model.add(layers.Flatten())\n",
        "model.add(layers.Dense(units=2048, activation='relu'))\n",
        "model.add(layers.Dense(units=43, activation='softmax'))\n",
        "model.summary()"
      ],
      "execution_count": 154,
      "outputs": [
        {
          "output_type": "stream",
          "text": [
            "Model: \"sequential_13\"\n",
            "_________________________________________________________________\n",
            "Layer (type)                 Output Shape              Param #   \n",
            "=================================================================\n",
            "conv2d_52 (Conv2D)           (None, 30, 30, 32)        896       \n",
            "_________________________________________________________________\n",
            "conv2d_53 (Conv2D)           (None, 28, 28, 64)        18496     \n",
            "_________________________________________________________________\n",
            "max_pooling2d_26 (MaxPooling (None, 14, 14, 64)        0         \n",
            "_________________________________________________________________\n",
            "conv2d_54 (Conv2D)           (None, 12, 12, 128)       73856     \n",
            "_________________________________________________________________\n",
            "max_pooling2d_27 (MaxPooling (None, 6, 6, 128)         0         \n",
            "_________________________________________________________________\n",
            "conv2d_55 (Conv2D)           (None, 4, 4, 256)         295168    \n",
            "_________________________________________________________________\n",
            "flatten_13 (Flatten)         (None, 4096)              0         \n",
            "_________________________________________________________________\n",
            "dense_26 (Dense)             (None, 2048)              8390656   \n",
            "_________________________________________________________________\n",
            "dense_27 (Dense)             (None, 43)                88107     \n",
            "=================================================================\n",
            "Total params: 8,867,179\n",
            "Trainable params: 8,867,179\n",
            "Non-trainable params: 0\n",
            "_________________________________________________________________\n"
          ],
          "name": "stdout"
        }
      ]
    },
    {
      "cell_type": "markdown",
      "metadata": {
        "id": "ctid-o4Co8U8",
        "colab_type": "text"
      },
      "source": [
        "###50 epok RMS \n",
        "###20 epok adadelta"
      ]
    },
    {
      "cell_type": "code",
      "metadata": {
        "id": "ZcmPligmU4ue",
        "colab_type": "code",
        "colab": {}
      },
      "source": [
        "model.compile(optimizer = 'adadelta', #optimizers.RMSprop(lr=1e-4), \n",
        "              loss='categorical_crossentropy',\n",
        "              metrics=['accuracy'])"
      ],
      "execution_count": 0,
      "outputs": []
    },
    {
      "cell_type": "code",
      "metadata": {
        "id": "XQeEJIniXv1Y",
        "colab_type": "code",
        "colab": {}
      },
      "source": [
        "!rm -rf logs\n",
        "!mkdir logs\n",
        "tensorboard = TensorBoard(log_dir='logs')"
      ],
      "execution_count": 0,
      "outputs": []
    },
    {
      "cell_type": "code",
      "metadata": {
        "id": "I3bHf7yaXxbI",
        "colab_type": "code",
        "outputId": "2c11db11-4f5c-46f4-85f9-7b05895de4d2",
        "colab": {
          "base_uri": "https://localhost:8080/",
          "height": 840
        }
      },
      "source": [
        "history = model.fit_generator(generator=train_generator,\n",
        "                              epochs = 20,\n",
        "                              validation_data = valid_generator,\n",
        "                              callbacks = [tensorboard])"
      ],
      "execution_count": 165,
      "outputs": [
        {
          "output_type": "stream",
          "text": [
            "WARNING:tensorflow:sample_weight modes were coerced from\n",
            "  ...\n",
            "    to  \n",
            "  ['...']\n",
            "WARNING:tensorflow:sample_weight modes were coerced from\n",
            "  ...\n",
            "    to  \n",
            "  ['...']\n",
            "Train for 1499 steps, validate for 333 steps\n",
            "Epoch 1/20\n",
            "1499/1499 [==============================] - 35s 23ms/step - loss: 0.1424 - accuracy: 0.9579 - val_loss: 0.1000 - val_accuracy: 0.9664\n",
            "Epoch 2/20\n",
            "1499/1499 [==============================] - 34s 23ms/step - loss: 0.1057 - accuracy: 0.9674 - val_loss: 0.1012 - val_accuracy: 0.9673\n",
            "Epoch 3/20\n",
            "1499/1499 [==============================] - 34s 23ms/step - loss: 0.1026 - accuracy: 0.9674 - val_loss: 0.0868 - val_accuracy: 0.9701\n",
            "Epoch 4/20\n",
            "1499/1499 [==============================] - 34s 23ms/step - loss: 0.1012 - accuracy: 0.9689 - val_loss: 0.0883 - val_accuracy: 0.9714\n",
            "Epoch 5/20\n",
            "1499/1499 [==============================] - 34s 23ms/step - loss: 0.0953 - accuracy: 0.9687 - val_loss: 0.0867 - val_accuracy: 0.9731\n",
            "Epoch 6/20\n",
            "1499/1499 [==============================] - 34s 23ms/step - loss: 0.0911 - accuracy: 0.9716 - val_loss: 0.0808 - val_accuracy: 0.9727\n",
            "Epoch 7/20\n",
            "1499/1499 [==============================] - 35s 23ms/step - loss: 0.0930 - accuracy: 0.9715 - val_loss: 0.0831 - val_accuracy: 0.9735\n",
            "Epoch 8/20\n",
            "1499/1499 [==============================] - 34s 23ms/step - loss: 0.0869 - accuracy: 0.9733 - val_loss: 0.0886 - val_accuracy: 0.9699\n",
            "Epoch 9/20\n",
            "1499/1499 [==============================] - 34s 23ms/step - loss: 0.0926 - accuracy: 0.9730 - val_loss: 0.0843 - val_accuracy: 0.9754\n",
            "Epoch 10/20\n",
            "1499/1499 [==============================] - 34s 23ms/step - loss: 0.0852 - accuracy: 0.9742 - val_loss: 0.0877 - val_accuracy: 0.9716\n",
            "Epoch 11/20\n",
            "1499/1499 [==============================] - 34s 23ms/step - loss: 0.0905 - accuracy: 0.9729 - val_loss: 0.0961 - val_accuracy: 0.9737\n",
            "Epoch 12/20\n",
            "1499/1499 [==============================] - 34s 23ms/step - loss: 0.0916 - accuracy: 0.9734 - val_loss: 0.0847 - val_accuracy: 0.9746\n",
            "Epoch 13/20\n",
            "1499/1499 [==============================] - 34s 23ms/step - loss: 0.0859 - accuracy: 0.9734 - val_loss: 0.0748 - val_accuracy: 0.9750\n",
            "Epoch 14/20\n",
            "1499/1499 [==============================] - 34s 23ms/step - loss: 0.0803 - accuracy: 0.9755 - val_loss: 0.0827 - val_accuracy: 0.9743\n",
            "Epoch 15/20\n",
            "1499/1499 [==============================] - 34s 23ms/step - loss: 0.0831 - accuracy: 0.9754 - val_loss: 0.0780 - val_accuracy: 0.9759\n",
            "Epoch 16/20\n",
            "1499/1499 [==============================] - 34s 23ms/step - loss: 0.0825 - accuracy: 0.9746 - val_loss: 0.0739 - val_accuracy: 0.9773\n",
            "Epoch 17/20\n",
            "1499/1499 [==============================] - 34s 23ms/step - loss: 0.0849 - accuracy: 0.9733 - val_loss: 0.0743 - val_accuracy: 0.9761\n",
            "Epoch 18/20\n",
            "1499/1499 [==============================] - 34s 23ms/step - loss: 0.0816 - accuracy: 0.9749 - val_loss: 0.0775 - val_accuracy: 0.9774\n",
            "Epoch 19/20\n",
            "1499/1499 [==============================] - 34s 23ms/step - loss: 0.0784 - accuracy: 0.9759 - val_loss: 0.0725 - val_accuracy: 0.9758\n",
            "Epoch 20/20\n",
            "1499/1499 [==============================] - 34s 23ms/step - loss: 0.0735 - accuracy: 0.9759 - val_loss: 0.0759 - val_accuracy: 0.9765\n"
          ],
          "name": "stdout"
        }
      ]
    },
    {
      "cell_type": "code",
      "metadata": {
        "id": "rFXk8eAfa6W5",
        "colab_type": "code",
        "colab": {
          "base_uri": "https://localhost:8080/",
          "height": 134
        },
        "outputId": "bd768ff8-0cf1-4280-8c0c-413f928e5e85"
      },
      "source": [
        "%load_ext tensorboard\n",
        "!tensorboard dev upload --logdir logs"
      ],
      "execution_count": 147,
      "outputs": [
        {
          "output_type": "stream",
          "text": [
            "The tensorboard extension is already loaded. To reload it, use:\n",
            "  %reload_ext tensorboard\n",
            "Upload started and will continue reading any new data as it's added\n",
            "to the logdir. To stop uploading, press Ctrl-C.\n",
            "View your TensorBoard live at: https://tensorboard.dev/experiment/KVaN3GOeQrqaAuvYM1dktQ/\n",
            "\n",
            "Upload stopped. View your TensorBoard at https://tensorboard.dev/experiment/KVaN3GOeQrqaAuvYM1dktQ/\n"
          ],
          "name": "stdout"
        }
      ]
    },
    {
      "cell_type": "markdown",
      "metadata": {
        "id": "8lThZMnpGrML",
        "colab_type": "text"
      },
      "source": [
        "#TEST SET"
      ]
    },
    {
      "cell_type": "code",
      "metadata": {
        "id": "k5itGH9OGpUi",
        "colab_type": "code",
        "colab": {}
      },
      "source": [
        "import csv\n",
        "\n",
        "signs_classes = {}\n",
        "file_name = \"\"\n",
        "with open('./GT-final_test.csv', mode='r') as csv_file:\n",
        "    csv_reader = csv.reader(csv_file, delimiter=';')\n",
        "    line_count = 0\n",
        "    for row in csv_reader:\n",
        "      line_count += 1\n",
        "      if 1 < line_count:\n",
        "        signs_classes[row[0]] = row[7]"
      ],
      "execution_count": 0,
      "outputs": []
    },
    {
      "cell_type": "code",
      "metadata": {
        "id": "vtRYqvkys9-x",
        "colab_type": "code",
        "colab": {}
      },
      "source": [
        "signs_test_names = []\n",
        "signs_test_names.append(os.listdir('./GTSRB/Final_Test/Images'))\n",
        "\n",
        "for j,name in enumerate(signs_test_names):\n",
        "  for k,n in enumerate(name):\n",
        "    src = os.path.join('./GTSRB/Final_Test/Images',n)\n",
        "    dst = os.path.join(dirs_test[int(signs_classes[n])],n)\n",
        "    shutil.copyfile(src,dst) "
      ],
      "execution_count": 0,
      "outputs": []
    },
    {
      "cell_type": "code",
      "metadata": {
        "id": "WqKsRUgOIa6Z",
        "colab_type": "code",
        "outputId": "f94503e9-5035-40d9-9a15-86039a303dc2",
        "colab": {
          "base_uri": "https://localhost:8080/",
          "height": 34
        }
      },
      "source": [
        "test_datagen = ImageDataGenerator(rescale=1./255.)\n",
        "test_generator = test_datagen.flow_from_directory(\n",
        "    './train_and_valid_signs/test/',\n",
        "    target_size = (32,32),\n",
        "    batch_size = 1,\n",
        "    class_mode = 'categorical',\n",
        "    shuffle = False\n",
        ")\n",
        "\n",
        "y_prob = model.predict_generator(test_generator, test_generator.samples)"
      ],
      "execution_count": 166,
      "outputs": [
        {
          "output_type": "stream",
          "text": [
            "Found 12630 images belonging to 43 classes.\n"
          ],
          "name": "stdout"
        }
      ]
    },
    {
      "cell_type": "code",
      "metadata": {
        "id": "f072CKAmJrmj",
        "colab_type": "code",
        "outputId": "2e4f5414-67fc-472e-84a4-a04e53c380d5",
        "colab": {
          "base_uri": "https://localhost:8080/",
          "height": 34
        }
      },
      "source": [
        "y_pred = np.argmax(y_prob,axis=1)\n",
        "y_pred"
      ],
      "execution_count": 167,
      "outputs": [
        {
          "output_type": "execute_result",
          "data": {
            "text/plain": [
              "array([ 8,  8,  4, ..., 42, 42, 42])"
            ]
          },
          "metadata": {
            "tags": []
          },
          "execution_count": 167
        }
      ]
    },
    {
      "cell_type": "code",
      "metadata": {
        "id": "rof-BkSgJ7tD",
        "colab_type": "code",
        "outputId": "b96a6825-33c2-4a90-db09-153877ec4b91",
        "colab": {
          "base_uri": "https://localhost:8080/",
          "height": 402
        }
      },
      "source": [
        "predictions = pd.DataFrame({'class':y_pred})\n",
        "predictions"
      ],
      "execution_count": 168,
      "outputs": [
        {
          "output_type": "execute_result",
          "data": {
            "text/html": [
              "<div>\n",
              "<style scoped>\n",
              "    .dataframe tbody tr th:only-of-type {\n",
              "        vertical-align: middle;\n",
              "    }\n",
              "\n",
              "    .dataframe tbody tr th {\n",
              "        vertical-align: top;\n",
              "    }\n",
              "\n",
              "    .dataframe thead th {\n",
              "        text-align: right;\n",
              "    }\n",
              "</style>\n",
              "<table border=\"1\" class=\"dataframe\">\n",
              "  <thead>\n",
              "    <tr style=\"text-align: right;\">\n",
              "      <th></th>\n",
              "      <th>class</th>\n",
              "    </tr>\n",
              "  </thead>\n",
              "  <tbody>\n",
              "    <tr>\n",
              "      <th>0</th>\n",
              "      <td>8</td>\n",
              "    </tr>\n",
              "    <tr>\n",
              "      <th>1</th>\n",
              "      <td>8</td>\n",
              "    </tr>\n",
              "    <tr>\n",
              "      <th>2</th>\n",
              "      <td>4</td>\n",
              "    </tr>\n",
              "    <tr>\n",
              "      <th>3</th>\n",
              "      <td>0</td>\n",
              "    </tr>\n",
              "    <tr>\n",
              "      <th>4</th>\n",
              "      <td>1</td>\n",
              "    </tr>\n",
              "    <tr>\n",
              "      <th>...</th>\n",
              "      <td>...</td>\n",
              "    </tr>\n",
              "    <tr>\n",
              "      <th>12625</th>\n",
              "      <td>42</td>\n",
              "    </tr>\n",
              "    <tr>\n",
              "      <th>12626</th>\n",
              "      <td>42</td>\n",
              "    </tr>\n",
              "    <tr>\n",
              "      <th>12627</th>\n",
              "      <td>42</td>\n",
              "    </tr>\n",
              "    <tr>\n",
              "      <th>12628</th>\n",
              "      <td>42</td>\n",
              "    </tr>\n",
              "    <tr>\n",
              "      <th>12629</th>\n",
              "      <td>42</td>\n",
              "    </tr>\n",
              "  </tbody>\n",
              "</table>\n",
              "<p>12630 rows × 1 columns</p>\n",
              "</div>"
            ],
            "text/plain": [
              "       class\n",
              "0          8\n",
              "1          8\n",
              "2          4\n",
              "3          0\n",
              "4          1\n",
              "...      ...\n",
              "12625     42\n",
              "12626     42\n",
              "12627     42\n",
              "12628     42\n",
              "12629     42\n",
              "\n",
              "[12630 rows x 1 columns]"
            ]
          },
          "metadata": {
            "tags": []
          },
          "execution_count": 168
        }
      ]
    },
    {
      "cell_type": "code",
      "metadata": {
        "id": "mZz6337bKQ_Z",
        "colab_type": "code",
        "outputId": "0e064bec-abbb-46c5-883d-4c0c820bd775",
        "colab": {
          "base_uri": "https://localhost:8080/",
          "height": 34
        }
      },
      "source": [
        "y_true = test_generator.classes\n",
        "y_true"
      ],
      "execution_count": 169,
      "outputs": [
        {
          "output_type": "execute_result",
          "data": {
            "text/plain": [
              "array([ 0,  0,  0, ..., 42, 42, 42], dtype=int32)"
            ]
          },
          "metadata": {
            "tags": []
          },
          "execution_count": 169
        }
      ]
    },
    {
      "cell_type": "code",
      "metadata": {
        "id": "9h1KPjuTKho7",
        "colab_type": "code",
        "outputId": "83645330-162c-4578-a775-68d09ab79dd0",
        "colab": {
          "base_uri": "https://localhost:8080/",
          "height": 134
        }
      },
      "source": [
        "cm = confusion_matrix(y_true,y_pred)\n",
        "cm"
      ],
      "execution_count": 0,
      "outputs": [
        {
          "output_type": "execute_result",
          "data": {
            "text/plain": [
              "array([[ 22,   8,   0, ...,   0,   0,   0],\n",
              "       [  1, 297,   0, ...,   0,   0,   0],\n",
              "       [  0,  61, 217, ...,   0,   0,   0],\n",
              "       ...,\n",
              "       [  0,   0,   0, ...,  30,   0,   0],\n",
              "       [  0,   0,   0, ...,   0,  33,   2],\n",
              "       [  0,   0,   0, ...,   0,   0,  36]])"
            ]
          },
          "metadata": {
            "tags": []
          },
          "execution_count": 176
        }
      ]
    },
    {
      "cell_type": "code",
      "metadata": {
        "id": "MtGlkYUdK4ug",
        "colab_type": "code",
        "colab": {}
      },
      "source": [
        "def plot_confusion_matrix(cm):\n",
        "  cm = cm[::-1]\n",
        "  cm = pd.DataFrame(cm,columns=classes,index = classes[::-1])\n",
        "  fig = ff.create_annotated_heatmap(z = cm.values, x = list(cm.columns),y = list(cm.index),colorscale = 'ice', showscale = True,  reversescale=True)\n",
        "  fig.update_layout(width = 10,height = 10,title = 'Confusion Matrix',font_size = 10)\n",
        "  fig.show()\n",
        "\n",
        "import plotly.figure_factory as ff\n",
        "plot_confusion_matrix(cm)"
      ],
      "execution_count": 0,
      "outputs": []
    },
    {
      "cell_type": "code",
      "metadata": {
        "id": "cZ-71DuQNZt2",
        "colab_type": "code",
        "outputId": "b609435b-eb1d-4f8e-c7c0-6a4746e8d124",
        "colab": {
          "base_uri": "https://localhost:8080/",
          "height": 857
        }
      },
      "source": [
        "print(classification_report(y_true,y_pred,target_names=test_generator.class_indices.keys()))"
      ],
      "execution_count": 162,
      "outputs": [
        {
          "output_type": "stream",
          "text": [
            "              precision    recall  f1-score   support\n",
            "\n",
            "       00000       0.37      0.58      0.45        60\n",
            "       00001       0.92      0.71      0.80       720\n",
            "       00002       0.58      0.94      0.72       750\n",
            "       00003       0.91      0.78      0.84       450\n",
            "       00004       0.99      0.79      0.88       660\n",
            "       00005       0.98      0.53      0.69       630\n",
            "       00006       0.79      0.99      0.88       150\n",
            "       00007       0.84      0.94      0.89       450\n",
            "       00008       0.65      0.95      0.77       450\n",
            "       00009       0.99      0.94      0.96       480\n",
            "       00010       0.94      0.99      0.96       660\n",
            "       00011       0.92      0.90      0.91       420\n",
            "       00012       0.95      0.88      0.92       690\n",
            "       00013       0.93      0.95      0.94       720\n",
            "       00014       0.97      0.97      0.97       270\n",
            "       00015       0.95      0.99      0.97       210\n",
            "       00016       0.95      0.98      0.97       150\n",
            "       00017       0.96      0.85      0.90       360\n",
            "       00018       1.00      0.65      0.79       390\n",
            "       00019       0.04      0.03      0.03        60\n",
            "       00020       0.34      0.51      0.41        90\n",
            "       00021       0.47      0.64      0.54        90\n",
            "       00022       0.91      0.78      0.84       120\n",
            "       00023       0.65      0.58      0.61       150\n",
            "       00024       0.96      0.97      0.96        90\n",
            "       00025       0.89      0.86      0.88       480\n",
            "       00026       0.81      0.89      0.85       180\n",
            "       00027       1.00      0.40      0.57        60\n",
            "       00028       0.66      0.85      0.74       150\n",
            "       00029       0.68      0.81      0.74        90\n",
            "       00030       0.87      0.47      0.61       150\n",
            "       00031       0.71      0.89      0.79       270\n",
            "       00032       0.68      0.83      0.75        60\n",
            "       00033       0.55      0.90      0.68       210\n",
            "       00034       0.85      0.66      0.74       120\n",
            "       00035       0.99      0.63      0.77       390\n",
            "       00036       0.82      0.63      0.71       120\n",
            "       00037       0.93      0.90      0.92        60\n",
            "       00038       0.79      0.90      0.84       690\n",
            "       00039       0.21      0.06      0.09        90\n",
            "       00040       0.60      0.97      0.74        90\n",
            "       00041       0.68      0.50      0.58        60\n",
            "       00042       1.00      0.48      0.65        90\n",
            "\n",
            "    accuracy                           0.82     12630\n",
            "   macro avg       0.78      0.75      0.75     12630\n",
            "weighted avg       0.85      0.82      0.82     12630\n",
            "\n"
          ],
          "name": "stdout"
        }
      ]
    },
    {
      "cell_type": "code",
      "metadata": {
        "id": "SAVRxOPsolUQ",
        "colab_type": "code",
        "colab": {
          "base_uri": "https://localhost:8080/",
          "height": 857
        },
        "outputId": "dc192353-b52e-420d-bf67-8def36f7f1c2"
      },
      "source": [
        "print(classification_report(y_true,y_pred,target_names=test_generator.class_indices.keys()))"
      ],
      "execution_count": 170,
      "outputs": [
        {
          "output_type": "stream",
          "text": [
            "              precision    recall  f1-score   support\n",
            "\n",
            "       00000       0.83      0.57      0.67        60\n",
            "       00001       0.84      0.95      0.89       720\n",
            "       00002       0.82      0.90      0.85       750\n",
            "       00003       0.92      0.84      0.88       450\n",
            "       00004       0.97      0.90      0.93       660\n",
            "       00005       0.84      0.83      0.83       630\n",
            "       00006       0.90      0.97      0.94       150\n",
            "       00007       0.88      0.93      0.90       450\n",
            "       00008       0.91      0.83      0.87       450\n",
            "       00009       1.00      0.98      0.99       480\n",
            "       00010       0.95      0.99      0.97       660\n",
            "       00011       0.91      0.87      0.89       420\n",
            "       00012       0.95      0.87      0.91       690\n",
            "       00013       0.93      0.95      0.94       720\n",
            "       00014       0.94      1.00      0.97       270\n",
            "       00015       0.98      0.99      0.98       210\n",
            "       00016       0.96      1.00      0.98       150\n",
            "       00017       0.99      0.79      0.88       360\n",
            "       00018       0.94      0.74      0.83       390\n",
            "       00019       0.31      0.92      0.46        60\n",
            "       00020       0.38      0.27      0.31        90\n",
            "       00021       0.51      0.60      0.55        90\n",
            "       00022       0.92      0.81      0.86       120\n",
            "       00023       0.65      0.68      0.66       150\n",
            "       00024       0.96      0.97      0.96        90\n",
            "       00025       0.81      0.89      0.85       480\n",
            "       00026       0.89      0.92      0.90       180\n",
            "       00027       0.87      0.45      0.59        60\n",
            "       00028       0.71      0.87      0.78       150\n",
            "       00029       0.73      1.00      0.85        90\n",
            "       00030       0.97      0.39      0.56       150\n",
            "       00031       0.97      0.87      0.92       270\n",
            "       00032       0.65      0.73      0.69        60\n",
            "       00033       0.75      0.82      0.78       210\n",
            "       00034       0.74      0.97      0.84       120\n",
            "       00035       0.98      0.81      0.89       390\n",
            "       00036       0.76      0.81      0.78       120\n",
            "       00037       0.96      0.73      0.83        60\n",
            "       00038       0.81      0.84      0.83       690\n",
            "       00039       0.30      0.19      0.23        90\n",
            "       00040       0.53      0.97      0.69        90\n",
            "       00041       0.61      0.50      0.55        60\n",
            "       00042       1.00      0.80      0.89        90\n",
            "\n",
            "    accuracy                           0.87     12630\n",
            "   macro avg       0.82      0.81      0.80     12630\n",
            "weighted avg       0.88      0.87      0.87     12630\n",
            "\n"
          ],
          "name": "stdout"
        }
      ]
    },
    {
      "cell_type": "code",
      "metadata": {
        "id": "7NJpIvD-D_gE",
        "colab_type": "code",
        "colab": {
          "base_uri": "https://localhost:8080/",
          "height": 54
        },
        "outputId": "856b6651-7483-42b8-8e4b-b14f67fc9c57"
      },
      "source": [
        "raw_no_of_files.items()\n"
      ],
      "execution_count": 125,
      "outputs": [
        {
          "output_type": "execute_result",
          "data": {
            "text/plain": [
              "dict_items([('00000', 151), ('00001', 1501), ('00002', 1501), ('00003', 961), ('00004', 1321), ('00005', 1261), ('00006', 301), ('00007', 961), ('00008', 961), ('00009', 991), ('00010', 1351), ('00011', 901), ('00012', 1411), ('00013', 1441), ('00014', 541), ('00015', 421), ('00016', 301), ('00017', 751), ('00018', 811), ('00019', 151), ('00020', 241), ('00021', 241), ('00022', 271), ('00023', 361), ('00024', 181), ('00025', 1021), ('00026', 421), ('00027', 181), ('00028', 361), ('00029', 181), ('00030', 301), ('00031', 541), ('00032', 181), ('00033', 481), ('00034', 301), ('00035', 811), ('00036', 271), ('00037', 151), ('00038', 1381), ('00039', 211), ('00040', 241), ('00041', 181), ('00042', 181)])"
            ]
          },
          "metadata": {
            "tags": []
          },
          "execution_count": 125
        }
      ]
    },
    {
      "cell_type": "code",
      "metadata": {
        "id": "Uia_ni_DE2UQ",
        "colab_type": "code",
        "colab": {}
      },
      "source": [
        ""
      ],
      "execution_count": 0,
      "outputs": []
    }
  ]
}